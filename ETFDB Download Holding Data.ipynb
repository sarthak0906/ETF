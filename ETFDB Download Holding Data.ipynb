{
 "cells": [
  {
   "cell_type": "markdown",
   "metadata": {},
   "source": [
    "# Class to download data from ETFdb.com"
   ]
  },
  {
   "cell_type": "code",
   "execution_count": 4,
   "metadata": {},
   "outputs": [],
   "source": [
    "from selenium import webdriver\n",
    "from selenium.webdriver.common.by import By\n",
    "from selenium.webdriver.support.ui import WebDriverWait\n",
    "from selenium.webdriver.support import expected_conditions as EC\n",
    "from datetime import datetime\n",
    "import pandas as pd\n",
    "import itertools\n",
    "import time\n",
    "\n",
    "class DownloadsEtfHoldingsData(object):\n",
    "    \n",
    "    def __init__(self):\n",
    "        self.savingpath = '/home/piyush/Desktop/ETFApp_withMongo/ETFAnalysis/ETFDailyData'+'/'+datetime.now().strftime(\"%Y%m%d\")\n",
    "        self.chrome_options = webdriver.ChromeOptions()\n",
    "        self.prefs = {'download.default_directory' : self.savingpath}\n",
    "        self.chrome_options.add_argument(\"--headless\")\n",
    "        self.chrome_options.add_experimental_option('prefs', self.prefs)\n",
    "        self.driver = webdriver.Chrome(executable_path='chromextensionlinux/chromedriver',chrome_options=self.chrome_options)\n",
    "        \n",
    "    def loginToEtfDb(self):\n",
    "        self.driver.get(\"https://etfdb.com/members/login/\")\n",
    "        e = self.driver.find_element(By.ID, \"user_login\")\n",
    "        e.send_keys(\"karansharmav\")\n",
    "        e = self.driver.find_element(By.ID, \"password\")\n",
    "        e.send_keys(\"etfapp2020\")\n",
    "        e = self.driver.find_element(By.ID, \"login-button\") \n",
    "        time.sleep(3)\n",
    "        e.click()\n",
    "        \n",
    "    def fetchDataForEtfTicker(self,ticker):\n",
    "        # Fetch Data\n",
    "        url='https://etfdb.com/etf/%s/#holdings'% (ticker)\n",
    "        self.driver.get(url)\n",
    "        time.sleep(3)\n",
    "        e = self.driver.find_element_by_xpath('//input[@type=\"submit\" and @value=\"Download Detailed ETF Holdings and Analytics\"]')\n",
    "        e.click()\n",
    "    \n",
    "    def closedriver(self):\n",
    "        self.driver.close()"
   ]
  },
  {
   "cell_type": "markdown",
   "metadata": {},
   "source": [
    "# Load the tickers"
   ]
  },
  {
   "cell_type": "code",
   "execution_count": 5,
   "metadata": {},
   "outputs": [],
   "source": [
    "data=pd.read_excel(\"Major 4 Etfs.xlsx\",index_col='Sector Name')\n",
    "tickers=list(itertools.chain.from_iterable(data.values.tolist()))"
   ]
  },
  {
   "cell_type": "markdown",
   "metadata": {},
   "source": [
    "# Run the Class"
   ]
  },
  {
   "cell_type": "code",
   "execution_count": 6,
   "metadata": {},
   "outputs": [
    {
     "name": "stderr",
     "output_type": "stream",
     "text": [
      "/home/piyush/anaconda3/lib/python3.7/site-packages/ipykernel_launcher.py:17: DeprecationWarning: use options instead of chrome_options\n"
     ]
    }
   ],
   "source": [
    "ob=DownloadsEtfHoldingsData()\n",
    "ob.loginToEtfDb()\n",
    "for i in tickers:\n",
    "    try:\n",
    "        ob.fetchDataForEtfTicker(i)\n",
    "        time.sleep(2)\n",
    "    except Exception as e:\n",
    "        print(\"Downloading Data for following ticker failed =\" + ticker)\n",
    "        print(e)\n",
    "        continue\n",
    "ob.closedriver()"
   ]
  },
  {
   "cell_type": "code",
   "execution_count": null,
   "metadata": {},
   "outputs": [],
   "source": []
  }
 ],
 "metadata": {
  "kernelspec": {
   "display_name": "Python 3",
   "language": "python",
   "name": "python3"
  },
  "language_info": {
   "codemirror_mode": {
    "name": "ipython",
    "version": 3
   },
   "file_extension": ".py",
   "mimetype": "text/x-python",
   "name": "python",
   "nbconvert_exporter": "python",
   "pygments_lexer": "ipython3",
   "version": "3.7.4"
  }
 },
 "nbformat": 4,
 "nbformat_minor": 4
}
