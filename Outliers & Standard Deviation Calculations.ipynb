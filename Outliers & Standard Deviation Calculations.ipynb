{
 "cells": [
  {
   "cell_type": "markdown",
   "metadata": {},
   "source": [
    "# Analyzing outliers from data & Returning Dates"
   ]
  },
  {
   "cell_type": "code",
   "execution_count": 1,
   "metadata": {},
   "outputs": [],
   "source": [
    "import datetime as dt\n",
    "import matplotlib.pyplot as plt\n",
    "from matplotlib import style\n",
    "import pandas as pd\n",
    "import pandas_datareader.data as web\n",
    "import seaborn as sns\n",
    "from scipy.stats import norm\n",
    "from scipy import stats\n",
    "import numpy as np\n",
    "import os\n",
    "import time\n",
    "from itertools import chain\n",
    "from IPython.display import display_html\n",
    "\n",
    "\n",
    "##### ETF Data Clean up ###########\n",
    "\n",
    "class ETFDataCleanup(object):\n",
    "    \n",
    "    def __init__(self):\n",
    "        pass\n",
    "\n",
    "    def showNaColumns(self,df):\n",
    "        s=df.isnull().sum()\n",
    "        print(s[s>0])\n",
    "    \n",
    "    def dropNAColumns(self,df):\n",
    "        return df.dropna(axis='columns')\n",
    "    \n",
    "    def computeDailyReturns(self,df):\n",
    "        return df.pct_change().dropna()        \n",
    "    \n",
    "    \n",
    "####### Get Data for Constituents of ETF\n",
    "\n",
    "class ConstituentsData(ETFDataCleanup):\n",
    "    \n",
    "    def __init__(self,fileName=None,startdate=None,enddate=None):\n",
    "        self.fileName=fileName\n",
    "        self.startdate=startdate\n",
    "        self.enddate=enddate\n",
    "        self.constituentdata=[]\n",
    "        self.constituentcloseDF=[]\n",
    "        self.tickerdf=[]\n",
    "        self.changeDF=[]\n",
    "        self.waDF=[]\n",
    "    \n",
    "    def getconstituentdata(self):\n",
    "        self.tickerdf = pd.read_excel(self.fileName)\n",
    "        tickers=self.tickerdf['Ticker']\n",
    "        self.tickerdf.set_index('Ticker',inplace=True)\n",
    "        self.constituentdata =  web.DataReader(tickers,'yahoo',self.startdate,self.enddate)\n",
    "        self.constituentcloseDF = self.constituentdata['Close'].iloc[:, :]\n",
    "        \n",
    "    def stringWeightsToFloat(self):\n",
    "        self.tickerdf['Weights']=self.tickerdf['Weights'].apply(lambda x: x.replace('%','')).astype(float)\n",
    "    \n",
    "    def findNetAssetValue(self):\n",
    "        self.waDF=self.changeDF.copy()\n",
    "        for col in self.changeDF.columns:\n",
    "            # Divide by 100 for weights percentage eg 23.28%\n",
    "            self.waDF[col]=self.changeDF[col]*self.tickerdf['Weights'].loc[col]/100\n",
    "        self.waDF['NAV']=self.waDF.sum(axis=1)\n",
    "\n",
    "####### Get prices of ETF        \n",
    "class ETFStockPrices(ETFDataCleanup):\n",
    "    \n",
    "    def __init__(self,etfticker=None,startdate=None,enddate=None):\n",
    "        self.etfticker=etfticker\n",
    "        self.startdate=startdate\n",
    "        self.enddate=enddate\n",
    "        self.etfdata=[]\n",
    "        self.etfchangeDF=[]\n",
    "\n",
    "        \n",
    "    def getETFTickerData(self):\n",
    "        self.etfdata =  web.DataReader(self.etfticker,'yahoo',self.startdate,self.enddate)\n",
    " \n",
    "\n",
    "\n",
    "class ETFArbitrage(object):\n",
    "\n",
    "    def __init__(self,etfob,waDF):\n",
    "        self.navDF=pd.merge(etfob,waDF['NAV'],left_index=True,right_index=True)\n",
    "        self.navDF['Date']=self.navDF.index\n",
    "        self.navDF['Close']=self.navDF['Close']*100\n",
    "        self.navDF['NAV']=self.navDF['NAV']*100\n",
    "        del self.navDF['Date']\n",
    "        self.navDF['Mispricing']=(self.navDF['Close']-self.navDF['NAV'])\n",
    "        self.navDF['Z-Score'] = np.abs(stats.zscore(self.navDF['Mispricing']))\n",
    "    \n",
    "    def scatterplot(self):\n",
    "        plt.scatter(self.navDF['Close'],self.navDF['NAV'])\n",
    "        \n",
    "    def scatterplot2(self):\n",
    "        #change figure size for the plot\n",
    "        fig_size = plt.rcParams[\"figure.figsize\"]\n",
    "        fig_size[0]=12\n",
    "        fig_size[1]=6\n",
    "        plt.rcParams[\"figure.figsize\"]=fig_size\n",
    "\n",
    "        plt.scatter(self.navDF.index,self.navDF['Mispricing'])\n",
    "    \n",
    "    def seaborndist(self):\n",
    "        sns.distplot(self.navDF['Mispricing'].values, hist=True, kde=True, \n",
    "             bins='auto', color = 'black', \n",
    "             hist_kws={'edgecolor':'black'},\n",
    "             kde_kws={'linewidth': 2})\n",
    "        \n"
   ]
  },
  {
   "cell_type": "markdown",
   "metadata": {},
   "source": [
    "# Load any ETF you want"
   ]
  },
  {
   "cell_type": "code",
   "execution_count": null,
   "metadata": {},
   "outputs": [],
   "source": [
    "tickeretf=\"XLK\"\n",
    "\n",
    "filename='ETFDailyData'+'/'+dt.datetime.now().strftime(\"%Y%m%d\")+'/'+tickeretf+'.xls'\n",
    "startdate=dt.datetime(2019,1,1)\n",
    "enddate=dt.datetime.today()\n",
    "\n",
    "ob=ConstituentsData(fileName=filename,startdate=startdate,enddate=enddate)\n",
    "ob.getconstituentdata()\n",
    "print(tickeretf)\n",
    "print(\"Tickers with NA Values\")\n",
    "ob.showNaColumns(ob.constituentcloseDF)\n",
    "ob.constituentcloseDF=ob.dropNAColumns(ob.constituentcloseDF)\n",
    "print(\"***************\")\n",
    "print(\"Check for NA Values again\")\n",
    "ob.showNaColumns(ob.constituentcloseDF)\n",
    "ob.changeDF=ob.computeDailyReturns(ob.constituentcloseDF)\n",
    "print(ob.changeDF.tail(10))\n",
    "\n",
    "\n",
    "ob.stringWeightsToFloat()\n",
    "ob.findNetAssetValue()\n",
    "\n",
    "print(\"***************\")\n",
    "print(\"Data for Constituents\")\n",
    "print(ob.waDF.head(5))\n",
    "\n",
    "etfob=ETFStockPrices(etfticker=tickeretf,startdate=startdate,enddate=enddate)\n",
    "etfob.getETFTickerData()\n",
    "print(\"Show Any Empty Values\")\n",
    "etfob.showNaColumns(etfob.etfdata)\n",
    "etfob.etfchangeDF=etfob.computeDailyReturns(etfob.etfdata['Close'])\n",
    "\n",
    "\n",
    "print(\"***************\")\n",
    "print(\"Data for ETF stock prices\")\n",
    "print(etfob.etfchangeDF.head(5))\n",
    "\n",
    "print(\"****************\")\n",
    "print(\"Charts\")\n",
    "arbob=ETFArbitrage(etfob.etfchangeDF,ob.waDF)\n",
    "arbob.scatterplot()\n",
    "plt.show()\n",
    "arbob.scatterplot2()\n",
    "plt.show()\n",
    "arbob.seaborndist()\n",
    "plt.show()\n",
    "\n"
   ]
  },
  {
   "cell_type": "markdown",
   "metadata": {},
   "source": [
    "# List down all objects of 3 different classes"
   ]
  },
  {
   "cell_type": "code",
   "execution_count": null,
   "metadata": {},
   "outputs": [],
   "source": [
    "print(\"Constituents Data Objects\")\n",
    "print(dir(ob))\n",
    "\n",
    "print(\"*************************\")\n",
    "print(\"ETF Price Object\")\n",
    "print(dir(etfob))\n",
    "\n",
    "print(\"*************************\")\n",
    "print(\"Arbitrage Data Object\")\n",
    "print(dir(arbob))"
   ]
  },
  {
   "cell_type": "markdown",
   "metadata": {},
   "source": [
    "## arbob.navDF is the ETF arbitrage dataframe which tells about \n",
    "1) Daily Return of ETF<br>\n",
    "2) NET Asset Value of ETF<br>\n",
    "3) Mispricing <br>\n",
    "4) Stocks which moved XLK ETF the most<br>"
   ]
  },
  {
   "cell_type": "code",
   "execution_count": null,
   "metadata": {},
   "outputs": [],
   "source": [
    "print(arbob.navDF.head(5))"
   ]
  },
  {
   "cell_type": "markdown",
   "metadata": {},
   "source": [
    "# Show me days with Arbitrage Opportunities of greater than 3 Standard Deviation"
   ]
  },
  {
   "cell_type": "code",
   "execution_count": null,
   "metadata": {},
   "outputs": [],
   "source": [
    "stdthresold=2.5\n",
    "\n",
    "daysofarbitrage=arbob.navDF[arbob.navDF['Z-Score']>stdthresold]\n",
    "daysofarbitrage"
   ]
  },
  {
   "cell_type": "markdown",
   "metadata": {},
   "source": [
    "## Stocks Returns, Volume & Volume Weighted Returns Standard Deviation"
   ]
  },
  {
   "cell_type": "code",
   "execution_count": null,
   "metadata": {},
   "outputs": [],
   "source": [
    "# Good Function\n",
    "class ZscoreAnlysByAttr():\n",
    "\n",
    "    def __init__(self,data,zthresh,colname):\n",
    "        self.data=data\n",
    "        self.data.name=self.data.name+' '+colname\n",
    "        self.zthresh=zthresh\n",
    "        \n",
    "    def getMispricedData(self):\n",
    "        self.df=self.data.to_frame()\n",
    "        self.df['Z-Score']=np.abs(stats.zscore(self.df.values.tolist()))\n",
    "        self.requiredDF=self.df[self.df['Z-Score']>self.zthresh]\n",
    "        return self.requiredDF\n",
    "\n",
    "def display_side_by_side(*args):\n",
    "    html_str=''\n",
    "    for df in args:\n",
    "        html_str+=df.to_html()\n",
    "    display_html(html_str.replace('table','table style=\"display:inline\"'),raw=True)"
   ]
  },
  {
   "cell_type": "code",
   "execution_count": null,
   "metadata": {},
   "outputs": [],
   "source": [
    "ticker ='AAPL'\n",
    "weightedMovement=ob.changeDF[ticker]*ob.constituentdata['Volume'][ticker]\n",
    "weightedMovement=weightedMovement.dropna()\n",
    "\n",
    "stockVolumeStd=ZscoreAnlysByAttr(ob.constituentdata['Volume'][ticker],stdthresold,'Volume').getMispricedData()\n",
    "stockReturnStd=ZscoreAnlysByAttr(ob.changeDF[ticker]*100,stdthresold,'Return').getMispricedData()\n",
    "stockweightedmovement=ZscoreAnlysByAttr(weightedMovement,stdthresold,'Volume Weighted Return').getMispricedData()"
   ]
  },
  {
   "cell_type": "code",
   "execution_count": null,
   "metadata": {},
   "outputs": [],
   "source": [
    "display_side_by_side(stockVolumeStd,stockReturnStd,stockweightedmovement)"
   ]
  },
  {
   "cell_type": "code",
   "execution_count": null,
   "metadata": {},
   "outputs": [],
   "source": [
    "daysofarbitrage"
   ]
  },
  {
   "cell_type": "code",
   "execution_count": null,
   "metadata": {},
   "outputs": [],
   "source": [
    "d=[list(daysofarbitrage.index),list(stockVolumeStd.index),list(stockReturnStd.index),list(stockweightedmovement.index)]\n",
    "#d=[list(stockReturnStd.index),list(daysofarbitrage.index)]\n",
    "set.intersection(*map(set,d))"
   ]
  },
  {
   "cell_type": "markdown",
   "metadata": {},
   "source": [
    "### Find Intersection of Dates where values were > 3 std <br>\n",
    " 1) daysofarbitrage - When ETF Gave 3 STD away Returns<br>\n",
    " 2) stockVolumeStd - When Volume was 3 std away from normal day for Stock<br>\n",
    " 3) stockReturnStd - When Daily Returns were 3 srd away from normal days<br>\n",
    " 4) stockweightedmovement - When Daily Returns * Volume were 3 Stanadrd Deviation Away<br>"
   ]
  },
  {
   "cell_type": "markdown",
   "metadata": {},
   "source": [
    "### Finding Dates for Mispricing Due to any of all Tickers"
   ]
  },
  {
   "cell_type": "code",
   "execution_count": null,
   "metadata": {},
   "outputs": [],
   "source": [
    "tickers=ob.constituentcloseDF.columns\n",
    "DF=pd.DataFrame()\n",
    "kvpairs={}\n",
    "#MispriceDF.set_index('Ticker',inplace=True)\n",
    "for ticker in tickers:\n",
    "    weightedMovement=ob.changeDF[ticker]*ob.constituentdata['Volume'][ticker]\n",
    "    weightedMovement=weightedMovement.dropna()\n",
    "    stockVolumeStd=ZscoreAnlysByAttr(ob.constituentdata['Volume'][ticker],stdthresold,'Volume').getMispricedData()\n",
    "    stockReturnStd=ZscoreAnlysByAttr(ob.changeDF[ticker]*100,stdthresold,'Return').getMispricedData()\n",
    "    stockweightedmovement=ZscoreAnlysByAttr(weightedMovement,stdthresold,'Volume Weighted Return').getMispricedData()\n",
    "    #d=[list(daysofarbitrage.index),list(stockVolumeStd.index),list(stockReturnStd.index),list(stockweightedmovement.index)]\n",
    "    d=[list(daysofarbitrage.index),list(stockweightedmovement.index)]\n",
    "    lst=(list(set.intersection(*map(set,d))))\n",
    "    if len(lst)>0:\n",
    "        kvpairs[ticker]=lst\n",
    "#kvpairs\n",
    "MispriceDF=pd.DataFrame(dict([ (k,pd.Series(v)) for k,v in kvpairs.items() ]))\n",
    "print(MispriceDF)"
   ]
  },
  {
   "cell_type": "markdown",
   "metadata": {},
   "source": [
    "### Dropping Tickers with all NA values"
   ]
  },
  {
   "cell_type": "code",
   "execution_count": null,
   "metadata": {
    "scrolled": false
   },
   "outputs": [],
   "source": [
    "MispriceDF=MispriceDF.T\n",
    "MispriceDF"
   ]
  },
  {
   "cell_type": "markdown",
   "metadata": {},
   "source": [
    "# Adding Stocks which caused miss pricing to dataframe "
   ]
  },
  {
   "cell_type": "code",
   "execution_count": null,
   "metadata": {},
   "outputs": [],
   "source": [
    "# Invert a dict\n",
    "class InvertDict(object):\n",
    "\n",
    "    def invertdict(self,d):\n",
    "        newdict = {}\n",
    "        for key, value in d.items():\n",
    "            for string in value:\n",
    "                newdict.setdefault(string, []).append(key)\n",
    "    \n",
    "        return newdict"
   ]
  },
  {
   "cell_type": "code",
   "execution_count": null,
   "metadata": {},
   "outputs": [],
   "source": [
    "stockscausingmispricing=InvertDict().invertdict(kvpairs)"
   ]
  },
  {
   "cell_type": "code",
   "execution_count": null,
   "metadata": {},
   "outputs": [],
   "source": [
    "daysofarbitrage['Stocks Caused Mispricing'] = daysofarbitrage.index.to_series().map(stockscausingmispricing)"
   ]
  },
  {
   "cell_type": "code",
   "execution_count": null,
   "metadata": {},
   "outputs": [],
   "source": [
    "daysofarbitrage"
   ]
  },
  {
   "cell_type": "code",
   "execution_count": null,
   "metadata": {},
   "outputs": [],
   "source": []
  }
 ],
 "metadata": {
  "kernelspec": {
   "display_name": "Python 3",
   "language": "python",
   "name": "python3"
  },
  "language_info": {
   "codemirror_mode": {
    "name": "ipython",
    "version": 3
   },
   "file_extension": ".py",
   "mimetype": "text/x-python",
   "name": "python",
   "nbconvert_exporter": "python",
   "pygments_lexer": "ipython3",
   "version": "3.6.8"
  }
 },
 "nbformat": 4,
 "nbformat_minor": 4
}
