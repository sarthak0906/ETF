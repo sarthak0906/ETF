{
 "cells": [
  {
   "cell_type": "markdown",
   "metadata": {},
   "source": [
    "# Automation code to download holdings"
   ]
  },
  {
   "cell_type": "code",
   "execution_count": 32,
   "metadata": {},
   "outputs": [],
   "source": [
    "import pandas as pd\n",
    "import urllib\n",
    "from pathlib import Path\n",
    "import os\n",
    "from datetime import datetime"
   ]
  },
  {
   "cell_type": "code",
   "execution_count": 48,
   "metadata": {},
   "outputs": [
    {
     "name": "stdout",
     "output_type": "stream",
     "text": [
      "   Ticker                    Name\n",
      "0     XLC  Communication Services\n",
      "1     XLY  Consumer Discretionary\n",
      "2     XLP        Consumer Staples\n",
      "3     XLE                  Energy\n",
      "4     XLF              Financials\n",
      "5     XLV             Health Care\n",
      "6     XLI             Industrials\n",
      "7     XLB               Materials\n",
      "8    XLRE             Real Estate\n",
      "9     XLK              Technology\n",
      "10    XLU               Utilities\n",
      "http://www.sectorspdr.com/sectorspdr/IDCO.Client.Spdrs.Holdings/Export/ExportExcel?symbol=XLC\n",
      "http://www.sectorspdr.com/sectorspdr/IDCO.Client.Spdrs.Holdings/Export/ExportExcel?symbol=XLY\n",
      "http://www.sectorspdr.com/sectorspdr/IDCO.Client.Spdrs.Holdings/Export/ExportExcel?symbol=XLP\n",
      "http://www.sectorspdr.com/sectorspdr/IDCO.Client.Spdrs.Holdings/Export/ExportExcel?symbol=XLE\n",
      "http://www.sectorspdr.com/sectorspdr/IDCO.Client.Spdrs.Holdings/Export/ExportExcel?symbol=XLF\n",
      "http://www.sectorspdr.com/sectorspdr/IDCO.Client.Spdrs.Holdings/Export/ExportExcel?symbol=XLV\n",
      "http://www.sectorspdr.com/sectorspdr/IDCO.Client.Spdrs.Holdings/Export/ExportExcel?symbol=XLI\n",
      "http://www.sectorspdr.com/sectorspdr/IDCO.Client.Spdrs.Holdings/Export/ExportExcel?symbol=XLB\n",
      "http://www.sectorspdr.com/sectorspdr/IDCO.Client.Spdrs.Holdings/Export/ExportExcel?symbol=XLRE\n",
      "http://www.sectorspdr.com/sectorspdr/IDCO.Client.Spdrs.Holdings/Export/ExportExcel?symbol=XLK\n",
      "http://www.sectorspdr.com/sectorspdr/IDCO.Client.Spdrs.Holdings/Export/ExportExcel?symbol=XLU\n"
     ]
    }
   ],
   "source": [
    "import pandas as pd\n",
    "import urllib\n",
    "from pathlib import Path\n",
    "import os\n",
    "\n",
    "base_url = \"http://www.sectorspdr.com/sectorspdr/IDCO.Client.Spdrs.Holdings/Export/ExportExcel?symbol=\"\n",
    "\n",
    "data = {                    \n",
    "    'Ticker' :      [ 'XLC','XLY','XLP','XLE','XLF','XLV','XLI','XLB','XLRE','XLK','XLU' ]          \n",
    ",   'Name' :    [ 'Communication Services','Consumer Discretionary','Consumer Staples','Energy','Financials','Health Care','Industrials','Materials','Real Estate','Technology','Utilities' ]           \n",
    "}                   \n",
    "\n",
    "spdr_df = pd.DataFrame(data)     \n",
    "\n",
    "print(spdr_df)\n",
    "\n",
    "for i, row in spdr_df.iterrows():\n",
    "    url =  base_url + row['Ticker']\n",
    "    savingpath = 'ETFDailyData'+'/'+datetime.now().strftime(\"%Y%m%d\")\n",
    "    Path(savingpath).mkdir(parents=True,exist_ok=True) \n",
    "    print(url)\n",
    "    urllib.request.urlretrieve(url,savingpath+'/'+row['Ticker']+\".xls\")"
   ]
  },
  {
   "cell_type": "markdown",
   "metadata": {},
   "source": [
    "# Clean the daily data for above ETF downloaded"
   ]
  },
  {
   "cell_type": "code",
   "execution_count": 29,
   "metadata": {},
   "outputs": [],
   "source": [
    "savingpath = 'ETFDailyData'+'/'+datetime.now().strftime(\"%Y%m%d\")\n",
    "for filename in os.listdir(savingpath):\n",
    "    if filename != '.DS_Store':\n",
    "        data=pd.read_excel(savingpath+'/'+filename)\n",
    "        data.columns=['Ticker','Company Name','Weights','Last','Change','%Change','Volume','52 Week Range']\n",
    "        data=data.drop(data.index[0])\n",
    "        data['Ticker']=data['Ticker'].apply(lambda x: x.replace('.','-'))\n",
    "        data.to_excel(savingpath+'/'+filename)"
   ]
  },
  {
   "cell_type": "code",
   "execution_count": null,
   "metadata": {},
   "outputs": [],
   "source": []
  }
 ],
 "metadata": {
  "kernelspec": {
   "display_name": "Python 3",
   "language": "python",
   "name": "python3"
  },
  "language_info": {
   "codemirror_mode": {
    "name": "ipython",
    "version": 3
   },
   "file_extension": ".py",
   "mimetype": "text/x-python",
   "name": "python",
   "nbconvert_exporter": "python",
   "pygments_lexer": "ipython3",
   "version": "3.6.8"
  }
 },
 "nbformat": 4,
 "nbformat_minor": 4
}
