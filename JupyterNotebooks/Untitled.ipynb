{
 "cells": [
  {
   "cell_type": "code",
   "execution_count": 31,
   "metadata": {},
   "outputs": [],
   "source": [
    "import pandas as pd\n",
    "from datetime import datetime"
   ]
  },
  {
   "cell_type": "code",
   "execution_count": 36,
   "metadata": {},
   "outputs": [],
   "source": [
    "class ETFDetails(object):\n",
    "  \n",
    "    def __init__(self):\n",
    "        pathtoread=\"../ETFDailyData/ETFTIckersDecription/\"+datetime.now().strftime(\"%Y%m%d\")+\"/etfs_details_type_fund_flow.csv\"\n",
    "        self.etfDesc=pd.read_csv(pathtoread)\n",
    "        self.etfDesc.index=self.etfDesc['Symbol']\n",
    "    \n",
    "    def ReturnetfDict(self):\n",
    "        return self.etfDesc.T.to_dict()"
   ]
  },
  {
   "cell_type": "code",
   "execution_count": 37,
   "metadata": {},
   "outputs": [],
   "source": [
    "etfDesc=ETFDetails().ReturnetfDict()"
   ]
  },
  {
   "cell_type": "code",
   "execution_count": 41,
   "metadata": {},
   "outputs": [
    {
     "data": {
      "text/plain": [
       "{'Symbol': 'QQQ',\n",
       " 'ETF Name': 'Invesco QQQ',\n",
       " 'Asset Class': 'Equity',\n",
       " 'Total Assets ': '$94,550,509,933.00',\n",
       " 'YTD': '7.80%',\n",
       " 'Avg Volume': '22,822,266',\n",
       " 'Previous Closing Price': '$229.20',\n",
       " '1-Day Change': '-0.43%',\n",
       " 'Inverse': 'No',\n",
       " 'Leveraged': 'No',\n",
       " '1 Week': '4.62%',\n",
       " '4 Week': '4.93%',\n",
       " '1 year': '37.36%',\n",
       " '3 year': '86.89%',\n",
       " '5 year': '132.90%',\n",
       " 'YTD FF': '$415,381,528.50',\n",
       " '1 Week FF': '$1,402,009,096.00',\n",
       " '4 Week FF': '-$797,364,807.50',\n",
       " '1 Year FF': '$5,600,890,701.50',\n",
       " '3 Year FF': '$14,779,089,575.50',\n",
       " '5 Year FF': '$13,313,530,157.00',\n",
       " 'ETFdb.com Category': 'Large Cap Growth Equities',\n",
       " 'Inception': '1999-03-10',\n",
       " 'ER': '0.20%',\n",
       " 'Commission Free': nan,\n",
       " 'Annual Dividend Rate': '$1.58',\n",
       " 'Dividend Date': '2019-12-23',\n",
       " 'Dividend': '$0.46',\n",
       " 'Annual Dividend Yield %': '0.69%',\n",
       " 'P/E Ratio': 22.66,\n",
       " 'Beta': 1.16,\n",
       " '# of Holdings': 104.0,\n",
       " '% In Top 10': '53.86%',\n",
       " 'ST Cap Gain Rate': '35%',\n",
       " 'LT Cap Gain Rate': '15%',\n",
       " 'Tax Form': 1099.0,\n",
       " 'Lower Bollinger': '$216.43',\n",
       " 'Upper Bollinger': '$229.36',\n",
       " 'Support 1': '$228.35',\n",
       " 'Resistance 1': '$230.25',\n",
       " 'RSI': 67.87,\n",
       " 'Overall Rating': 'A-',\n",
       " 'Liquidity Rating': 'A+',\n",
       " 'Expenses Rating': 'A-',\n",
       " 'Returns Rating': 'A-',\n",
       " 'Volatility Rating': 'C+',\n",
       " 'Dividend Rating': 'B',\n",
       " 'Concentration Rating': 'B',\n",
       " 'ESG Score': 5.7,\n",
       " 'ESG Score Peer Percentile (%)': '57.34%',\n",
       " 'ESG Score Global Percentile (%)': '55.04%',\n",
       " 'Carbon Intensity (Tons of CO2e / $M Sales)': 46.01,\n",
       " 'SRI Exclusion Criteria (%)': '9.89%',\n",
       " 'Sustainable Impact Solutions (%)': '7.95%'}"
      ]
     },
     "execution_count": 41,
     "metadata": {},
     "output_type": "execute_result"
    }
   ],
   "source": [
    "ticker='QQQ'\n",
    "etfDesc[ticker]"
   ]
  },
  {
   "cell_type": "code",
   "execution_count": null,
   "metadata": {},
   "outputs": [],
   "source": []
  }
 ],
 "metadata": {
  "kernelspec": {
   "display_name": "Python 3",
   "language": "python",
   "name": "python3"
  },
  "language_info": {
   "codemirror_mode": {
    "name": "ipython",
    "version": 3
   },
   "file_extension": ".py",
   "mimetype": "text/x-python",
   "name": "python",
   "nbconvert_exporter": "python",
   "pygments_lexer": "ipython3",
   "version": "3.6.8"
  }
 },
 "nbformat": 4,
 "nbformat_minor": 2
}
