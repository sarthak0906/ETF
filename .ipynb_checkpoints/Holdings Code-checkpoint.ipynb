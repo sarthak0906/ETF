{
 "cells": [
  {
   "cell_type": "markdown",
   "metadata": {},
   "source": [
    "# Automation code to download holdings"
   ]
  },
  {
   "cell_type": "code",
   "execution_count": 88,
   "metadata": {},
   "outputs": [
    {
     "name": "stdout",
     "output_type": "stream",
     "text": [
      "   Ticker                    Name\n",
      "0     XLC  Communication Services\n",
      "1     XLY  Consumer Discretionary\n",
      "2     XLP        Consumer Staples\n",
      "3     XLE                  Energy\n",
      "4     XLF              Financials\n",
      "5     XLV             Health Care\n",
      "6     XLI             Industrials\n",
      "7     XLB               Materials\n",
      "8    XLRE             Real Estate\n",
      "9     XLK              Technology\n",
      "10    XLU               Utilities\n"
     ]
    }
   ],
   "source": [
    "import pandas as pd\n",
    "import urllib\n",
    "from pathlib import Path\n",
    "import os\n",
    "\n",
    "base_url = \"http://www.sectorspdr.com/sectorspdr/IDCO.Client.Spdrs.Holdings/Export/ExportExcel?symbol=\"\n",
    "\n",
    "data = {                    \n",
    "    'Ticker' :      [ 'XLC','XLY','XLP','XLE','XLF','XLV','XLI','XLB','XLRE','XLK','XLU' ]          \n",
    ",   'Name' :    [ 'Communication Services','Consumer Discretionary','Consumer Staples','Energy','Financials','Health Care','Industrials','Materials','Real Estate','Technology','Utilities' ]           \n",
    "}                   \n",
    "\n",
    "spdr_df = pd.DataFrame(data)     \n",
    "\n",
    "print(spdr_df)\n",
    "\n",
    "for i, row in spdr_df.iterrows():\n",
    "    url =  base_url + row['Ticker']\n",
    "    savingpath = 'ETFDailyData'+'/'+datetime.now().strftime(\"%Y%m%d\")\n",
    "    Path(savingpath).mkdir(parents=True,exist_ok=True) \n",
    "    urllib.request.urlretrieve(dls,savingpath+'/'+row['Ticker']+\".xls\")"
   ]
  },
  {
   "cell_type": "markdown",
   "metadata": {},
   "source": [
    "# Also Clean the daily data"
   ]
  },
  {
   "cell_type": "code",
   "execution_count": 92,
   "metadata": {},
   "outputs": [],
   "source": [
    "for filename in os.listdir(savingpath):\n",
    "    if filename != '.DS_Store':\n",
    "        data=pd.read_excel(savingpath+'/'+filename)\n",
    "        data.columns=['Ticker','Company Name','Weights','Last','Change','%Change','Volume','52 Week Range']\n",
    "        data=data.drop(data.index[0])\n",
    "        data.to_excel(filename)"
   ]
  },
  {
   "cell_type": "code",
   "execution_count": 85,
   "metadata": {},
   "outputs": [],
   "source": [
    "data.columns=['Ticker','Company Name','Weights','Last','Change','%Change','Volume','52 Week Range']\n",
    "data=data.drop(data.index[0])"
   ]
  },
  {
   "cell_type": "code",
   "execution_count": 90,
   "metadata": {},
   "outputs": [
    {
     "data": {
      "text/plain": [
       "'.DS_Store'"
      ]
     },
     "execution_count": 90,
     "metadata": {},
     "output_type": "execute_result"
    }
   ],
   "source": [
    "filename"
   ]
  },
  {
   "cell_type": "code",
   "execution_count": 91,
   "metadata": {},
   "outputs": [
    {
     "data": {
      "text/plain": [
       "['.DS_Store',\n",
       " 'XLP.xlsx',\n",
       " 'XLE.xlsx',\n",
       " 'XLI.xlsx',\n",
       " 'XLRE.xlsx',\n",
       " 'XLB.xlsx',\n",
       " 'XLV.xlsx',\n",
       " 'XLC.xlsx',\n",
       " 'XLU.xlsx',\n",
       " 'XLY.xlsx',\n",
       " 'XLF.xlsx',\n",
       " 'XLK.xlsx']"
      ]
     },
     "execution_count": 91,
     "metadata": {},
     "output_type": "execute_result"
    }
   ],
   "source": [
    "os.listdir(savingpath)"
   ]
  },
  {
   "cell_type": "code",
   "execution_count": null,
   "metadata": {},
   "outputs": [],
   "source": []
  }
 ],
 "metadata": {
  "kernelspec": {
   "display_name": "Python 3",
   "language": "python",
   "name": "python3"
  },
  "language_info": {
   "codemirror_mode": {
    "name": "ipython",
    "version": 3
   },
   "file_extension": ".py",
   "mimetype": "text/x-python",
   "name": "python",
   "nbconvert_exporter": "python",
   "pygments_lexer": "ipython3",
   "version": "3.6.8"
  }
 },
 "nbformat": 4,
 "nbformat_minor": 2
}
