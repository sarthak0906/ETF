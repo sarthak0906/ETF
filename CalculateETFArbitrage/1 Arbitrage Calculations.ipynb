{
 "cells": [
  {
   "cell_type": "code",
   "execution_count": 1,
   "metadata": {},
   "outputs": [],
   "source": [
    "import sys  # Remove in production - KTZ\n",
    "\n",
    "sys.path.append(\"..\")  # Remove in production - KTZ\n",
    "import pandas as pd\n",
    "import datetime\n",
    "from PolygonTickData.Helper import Helper\n",
    "from CalculateETFArbitrage.LoadEtfHoldings import LoadHoldingsdata\n",
    "from CalculateETFArbitrage.GatherData import DataApi\n",
    "import numpy as np\n",
    "\n",
    "# Jupyter Notebook to display all the columns in a df\n",
    "pd.set_option('display.max_columns', None)  # or 1000\n",
    "pd.set_option('display.max_rows', None)  # or 1000\n",
    "pd.set_option('display.max_colwidth', -1)  # or 199"
   ]
  },
  {
   "cell_type": "code",
   "execution_count": 2,
   "metadata": {},
   "outputs": [],
   "source": [
    "def EtfMover(df=None, columnName=None):\n",
    "    df=round(df,4)\n",
    "    arr=df.abs().values.argsort(1)[:, -10:][:, ::-1]\n",
    "    pos=0\n",
    "    Change1=[]\n",
    "    Change2=[]\n",
    "    Change3=[]\n",
    "    Change4=[]\n",
    "    Change5=[]\n",
    "    Change6=[]\n",
    "    Change7=[]\n",
    "    Change8=[]\n",
    "    Change9=[]\n",
    "    Change10=[]\n",
    "    for i in arr:\n",
    "        top=df.iloc[pos,].to_dict()\n",
    "        l=[(k,v) for k,v in top.items()]\n",
    "        Change1.append(l[i[0]])\n",
    "        Change2.append(l[i[1]])\n",
    "        Change3.append(l[i[2]])\n",
    "        Change4.append(l[i[3]])\n",
    "        Change5.append(l[i[4]])\n",
    "        Change6.append(l[i[5]])\n",
    "        Change7.append(l[i[6]])\n",
    "        Change8.append(l[i[7]])\n",
    "        Change9.append(l[i[8]])\n",
    "        Change10.append(l[i[9]])\n",
    "        pos+=1\n",
    "    result=pd.DataFrame([Change1,Change2,Change3,\n",
    "                         Change4,Change5,Change6,\n",
    "                         Change7,Change8,Change9,\n",
    "                         Change10]).T\n",
    "    result.index=df.index\n",
    "    result.columns=[columnName+str(i) for i in range(1,11)]\n",
    "    return result"
   ]
  },
  {
   "cell_type": "code",
   "execution_count": 3,
   "metadata": {},
   "outputs": [
    {
     "name": "stdout",
     "output_type": "stream",
     "text": [
      "Can't Fetch Fund Holdings Data\n",
      "52.91.26.227:27017: [Errno 61] Connection refused\n"
     ]
    },
    {
     "ename": "AttributeError",
     "evalue": "'NoneType' object has no attribute 'getSymbols'",
     "output_type": "error",
     "traceback": [
      "\u001b[0;31m---------------------------------------------------------------------------\u001b[0m",
      "\u001b[0;31mAttributeError\u001b[0m                            Traceback (most recent call last)",
      "\u001b[0;32m<ipython-input-3-3353ab4f4a98>\u001b[0m in \u001b[0;36m<module>\u001b[0;34m\u001b[0m\n\u001b[1;32m      3\u001b[0m \u001b[0;34m\u001b[0m\u001b[0m\n\u001b[1;32m      4\u001b[0m \u001b[0metfData\u001b[0m \u001b[0;34m=\u001b[0m \u001b[0mLoadHoldingsdata\u001b[0m\u001b[0;34m(\u001b[0m\u001b[0;34m)\u001b[0m\u001b[0;34m.\u001b[0m\u001b[0mLoadHoldingsAndClean\u001b[0m\u001b[0;34m(\u001b[0m\u001b[0metfname\u001b[0m\u001b[0;34m=\u001b[0m\u001b[0metfname\u001b[0m\u001b[0;34m,\u001b[0m \u001b[0mfundholdingsdate\u001b[0m\u001b[0;34m=\u001b[0m\u001b[0mdate\u001b[0m\u001b[0;34m)\u001b[0m\u001b[0;34m\u001b[0m\u001b[0m\n\u001b[0;32m----> 5\u001b[0;31m \u001b[0mallData\u001b[0m \u001b[0;34m=\u001b[0m \u001b[0mDataApi\u001b[0m\u001b[0;34m(\u001b[0m\u001b[0metfname\u001b[0m\u001b[0;34m=\u001b[0m\u001b[0metfname\u001b[0m\u001b[0;34m,\u001b[0m \u001b[0mdate\u001b[0m\u001b[0;34m=\u001b[0m\u001b[0mdate\u001b[0m\u001b[0;34m,\u001b[0m \u001b[0metfData\u001b[0m\u001b[0;34m=\u001b[0m\u001b[0metfData\u001b[0m\u001b[0;34m)\u001b[0m\u001b[0;34m\u001b[0m\u001b[0m\n\u001b[0m",
      "\u001b[0;32m~/Desktop/ETFAnalysisByDate/ETFAnalysis/CalculateETFArbitrage/GatherData.py\u001b[0m in \u001b[0;36m__init__\u001b[0;34m(self, etfname, date, etfData)\u001b[0m\n\u001b[1;32m     24\u001b[0m \u001b[0;34m\u001b[0m\u001b[0m\n\u001b[1;32m     25\u001b[0m                 \u001b[0;31m# Object for Trade Data\u001b[0m\u001b[0;34m\u001b[0m\u001b[0;34m\u001b[0m\u001b[0m\n\u001b[0;32m---> 26\u001b[0;31m                 \u001b[0mself\u001b[0m\u001b[0;34m.\u001b[0m\u001b[0mtradesDataDf\u001b[0m \u001b[0;34m=\u001b[0m \u001b[0mself\u001b[0m\u001b[0;34m.\u001b[0m\u001b[0mgatherTradeData\u001b[0m\u001b[0;34m(\u001b[0m\u001b[0;34m)\u001b[0m\u001b[0;34m\u001b[0m\u001b[0m\n\u001b[0m\u001b[1;32m     27\u001b[0m                 \u001b[0;31m# Object for Quotes Data\u001b[0m\u001b[0;34m\u001b[0m\u001b[0;34m\u001b[0m\u001b[0m\n\u001b[1;32m     28\u001b[0m                 \u001b[0mself\u001b[0m\u001b[0;34m.\u001b[0m\u001b[0mquotesDataDf\u001b[0m \u001b[0;34m=\u001b[0m \u001b[0mself\u001b[0m\u001b[0;34m.\u001b[0m\u001b[0mgatherQuotesData\u001b[0m\u001b[0;34m(\u001b[0m\u001b[0;34m)\u001b[0m\u001b[0;34m\u001b[0m\u001b[0m\n",
      "\u001b[0;32m~/Desktop/ETFAnalysisByDate/ETFAnalysis/CalculateETFArbitrage/GatherData.py\u001b[0m in \u001b[0;36mgatherTradeData\u001b[0;34m(self)\u001b[0m\n\u001b[1;32m     31\u001b[0m \u001b[0;34m\u001b[0m\u001b[0m\n\u001b[1;32m     32\u001b[0m         \u001b[0;32mdef\u001b[0m \u001b[0mgatherTradeData\u001b[0m\u001b[0;34m(\u001b[0m\u001b[0mself\u001b[0m\u001b[0;34m)\u001b[0m\u001b[0;34m:\u001b[0m\u001b[0;34m\u001b[0m\u001b[0m\n\u001b[0;32m---> 33\u001b[0;31m                 \u001b[0mob\u001b[0m \u001b[0;34m=\u001b[0m \u001b[0mAssembleData\u001b[0m\u001b[0;34m(\u001b[0m\u001b[0msymbols\u001b[0m\u001b[0;34m=\u001b[0m\u001b[0mself\u001b[0m\u001b[0;34m.\u001b[0m\u001b[0metfData\u001b[0m\u001b[0;34m.\u001b[0m\u001b[0mgetSymbols\u001b[0m\u001b[0;34m(\u001b[0m\u001b[0;34m)\u001b[0m\u001b[0;34m,\u001b[0m \u001b[0mdate\u001b[0m\u001b[0;34m=\u001b[0m\u001b[0mself\u001b[0m\u001b[0;34m.\u001b[0m\u001b[0mdate\u001b[0m\u001b[0;34m)\u001b[0m\u001b[0;34m\u001b[0m\u001b[0m\n\u001b[0m\u001b[1;32m     34\u001b[0m                 \u001b[0mtradesDataDf\u001b[0m \u001b[0;34m=\u001b[0m \u001b[0mob\u001b[0m\u001b[0;34m.\u001b[0m\u001b[0mgetData\u001b[0m\u001b[0;34m(\u001b[0m\u001b[0mCollectionName\u001b[0m\u001b[0;34m=\u001b[0m\u001b[0mtradeCollection\u001b[0m\u001b[0;34m,\u001b[0m \u001b[0mpipeline\u001b[0m\u001b[0;34m=\u001b[0m\u001b[0mtradespipeline\u001b[0m\u001b[0;34m,\u001b[0m \u001b[0mtradeDataFlag\u001b[0m\u001b[0;34m=\u001b[0m\u001b[0;32mTrue\u001b[0m\u001b[0;34m)\u001b[0m\u001b[0;34m\u001b[0m\u001b[0m\n\u001b[1;32m     35\u001b[0m                 \u001b[0;32mreturn\u001b[0m \u001b[0mtradesDataDf\u001b[0m\u001b[0;34m\u001b[0m\u001b[0m\n",
      "\u001b[0;31mAttributeError\u001b[0m: 'NoneType' object has no attribute 'getSymbols'"
     ]
    }
   ],
   "source": [
    "etfname = 'XLK'\n",
    "date = '2020-03-17'\n",
    "\n",
    "etfData = LoadHoldingsdata().LoadHoldingsAndClean(etfname=etfname, fundholdingsdate=date)\n",
    "allData = DataApi(etfname=etfname, date=date, etfData=etfData)"
   ]
  },
  {
   "cell_type": "code",
   "execution_count": null,
   "metadata": {},
   "outputs": [],
   "source": [
    "helperObj = Helper()\n",
    "allData.tradesDataDf['Time'] = allData.tradesDataDf['Time'].apply(lambda x: helperObj.getHumanTime(ts=x, divideby=1000))\n",
    "tradePricesDFMinutes = allData.tradesDataDf.groupby([allData.tradesDataDf['Time'], allData.tradesDataDf['Symbol']])['Trade Price']\n",
    "tradePricesDFMinutes = tradePricesDFMinutes.first().unstack(level=1)\n",
    "\n",
    "priceforNAVfilling = allData.openPriceData.set_index('Symbol').T.to_dict('records')[0]"
   ]
  },
  {
   "cell_type": "code",
   "execution_count": null,
   "metadata": {},
   "outputs": [],
   "source": [
    "tradePricesDFMinutes"
   ]
  },
  {
   "cell_type": "code",
   "execution_count": null,
   "metadata": {},
   "outputs": [],
   "source": []
  },
  {
   "cell_type": "code",
   "execution_count": null,
   "metadata": {},
   "outputs": [],
   "source": [
    "marketStartTime = datetime.datetime.strptime('13:29:00', \"%H:%M:%S\").time()\n",
    "marketEndTime = datetime.datetime.strptime('20:00:00', \"%H:%M:%S\").time()\n",
    "\n",
    "mask = (tradePricesDFMinutes.index.time >= marketStartTime) & (tradePricesDFMinutes.index.time <= marketEndTime)\n",
    "tradePricesDFMinutes=tradePricesDFMinutes[mask]\n",
    "tradePricesDFMinutes=tradePricesDFMinutes.ffill(axis=0)\n",
    "tradePricesDFMinutes = tradePricesDFMinutes.fillna(priceforNAVfilling)\n",
    "\n",
    "etfprice = tradePricesDFMinutes[etfname]\n",
    "tradePricesDFMinutes = tradePricesDFMinutes.pct_change().dropna() * 100\n",
    "\n",
    "etfpricechange = tradePricesDFMinutes[etfname]\n",
    "del tradePricesDFMinutes[etfname]"
   ]
  },
  {
   "cell_type": "code",
   "execution_count": null,
   "metadata": {},
   "outputs": [],
   "source": [
    "tradePricesDFMinutes"
   ]
  },
  {
   "cell_type": "code",
   "execution_count": null,
   "metadata": {},
   "outputs": [],
   "source": [
    "allData.quotesDataDf['Time'] = allData.quotesDataDf['Time'].apply(lambda x: helperObj.getHumanTime(ts=x, divideby=1000000000))\n",
    "allData.quotesDataDf['Time'] = allData.quotesDataDf['Time'].map(lambda x: x.replace(second=0))\n",
    "allData.quotesDataDf = allData.quotesDataDf[allData.quotesDataDf['Bid Size'] != 0]\n",
    "allData.quotesDataDf = allData.quotesDataDf[allData.quotesDataDf['Ask Size'] != 0]\n",
    "allData.quotesDataDf['Total Bid Ask Size'] = allData.quotesDataDf['Ask Size'] + allData.quotesDataDf['Bid Size']\n",
    "allData.quotesDataDf['Spread'] = allData.quotesDataDf['Ask Price'] - allData.quotesDataDf['Bid Price']\n",
    "allData.quotesDataDf['MidPrice'] = (allData.quotesDataDf['Ask Price'] + allData.quotesDataDf['Bid Price']) / 2\n",
    "quotesSpreadsMinutes = allData.quotesDataDf.groupby('Time')['Spread'].mean()"
   ]
  },
  {
   "cell_type": "code",
   "execution_count": null,
   "metadata": {},
   "outputs": [],
   "source": [
    "del allData"
   ]
  },
  {
   "cell_type": "code",
   "execution_count": null,
   "metadata": {},
   "outputs": [],
   "source": [
    "netassetvaluereturn = tradePricesDFMinutes.assign(**etfData.getETFWeights()).mul(tradePricesDFMinutes).sum(axis=1)\n",
    "\n",
    "ds = pd.concat([etfprice, etfpricechange, netassetvaluereturn, quotesSpreadsMinutes], axis=1).dropna()\n",
    "ds.columns = ['ETF Price', 'ETF Change Price %', 'Net Asset Value Change%', 'ETF Trading Spread in $']\n",
    "ds['Arbitrage in $'] = (ds['ETF Change Price %'] - ds['Net Asset Value Change%']) * ds['ETF Price'] / 100\n",
    "ds['Arbitrage in $'] = abs(ds['Arbitrage in $'])\n",
    "ds['Flag'] = 0\n",
    "ds.loc[(ds['Arbitrage in $'] > ds['ETF Trading Spread in $']) & ds['ETF Trading Spread in $'] != 0, 'Flag'] = 111\n",
    "\n",
    "holdingsChange = EtfMover(df=tradePricesDFMinutes, columnName='Change%')\n",
    "etfMoverholdings = EtfMover(df=tradePricesDFMinutes.assign(**etfData.getETFWeights()).mul(tradePricesDFMinutes).dropna(axis=1), columnName='ETFMover%')\n",
    "\n",
    "ds=pd.concat([ds,etfMoverholdings,holdingsChange],axis=1)"
   ]
  }
 ],
 "metadata": {
  "kernelspec": {
   "display_name": "Python 3",
   "language": "python",
   "name": "python3"
  },
  "language_info": {
   "codemirror_mode": {
    "name": "ipython",
    "version": 3
   },
   "file_extension": ".py",
   "mimetype": "text/x-python",
   "name": "python",
   "nbconvert_exporter": "python",
   "pygments_lexer": "ipython3",
   "version": "3.6.5"
  }
 },
 "nbformat": 4,
 "nbformat_minor": 4
}
