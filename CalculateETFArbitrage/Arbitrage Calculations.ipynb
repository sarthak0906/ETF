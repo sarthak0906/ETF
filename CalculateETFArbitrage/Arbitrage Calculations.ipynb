{
 "cells": [
  {
   "cell_type": "code",
   "execution_count": 1,
   "metadata": {},
   "outputs": [],
   "source": [
    "import sys  # Remove in production - KTZ\n",
    "\n",
    "sys.path.append(\"..\")  # Remove in production - KTZ\n",
    "import pandas as pd\n",
    "import datetime\n",
    "from PolygonTickData.Helper import Helper\n",
    "from CalculateETFArbitrage.LoadEtfHoldings import LoadHoldingsdata\n",
    "from CalculateETFArbitrage.GatherData import DataApi\n",
    "import numpy as np\n",
    "\n",
    "# Jupyter Notebook to display all the columns in a df\n",
    "pd.set_option('display.max_columns', None)  # or 1000\n",
    "pd.set_option('display.max_rows', None)  # or 1000\n",
    "pd.set_option('display.max_colwidth', -1)  # or 199"
   ]
  },
  {
   "cell_type": "code",
   "execution_count": 20,
   "metadata": {},
   "outputs": [],
   "source": [
    "def EtfMover(df=None, columnName=None):\n",
    "    df=round(df,4)\n",
    "    arr=df.abs().values.argsort(1)[:, -10:][:, ::-1]\n",
    "    pos=0\n",
    "    Change1=[]\n",
    "    Change2=[]\n",
    "    Change3=[]\n",
    "    Change4=[]\n",
    "    Change5=[]\n",
    "    Change6=[]\n",
    "    Change7=[]\n",
    "    Change8=[]\n",
    "    Change9=[]\n",
    "    Change10=[]\n",
    "    for i in arr:\n",
    "        top=df.iloc[pos,].to_dict()\n",
    "        l=[(k,v) for k,v in top.items()]\n",
    "        Change1.append(l[i[0]])\n",
    "        Change2.append(l[i[1]])\n",
    "        Change3.append(l[i[2]])\n",
    "        Change4.append(l[i[3]])\n",
    "        Change5.append(l[i[4]])\n",
    "        Change6.append(l[i[5]])\n",
    "        Change7.append(l[i[6]])\n",
    "        Change8.append(l[i[7]])\n",
    "        Change9.append(l[i[8]])\n",
    "        Change10.append(l[i[9]])\n",
    "        pos+=1\n",
    "    result=pd.DataFrame([Change1,Change2,Change3,\n",
    "                         Change4,Change5,Change6,\n",
    "                         Change7,Change8,Change9,\n",
    "                         Change10]).T\n",
    "    result.index=df.index\n",
    "    result.columns=[columnName+str(i) for i in range(1,11)]\n",
    "    return result"
   ]
  },
  {
   "cell_type": "code",
   "execution_count": 21,
   "metadata": {},
   "outputs": [
    {
     "name": "stdout",
     "output_type": "stream",
     "text": [
      "ETF object\n",
      "2020-03-17 00:00:00\n",
      "Fetching Data\n",
      "-------0.9006609916687012-------\n",
      "Fetching Data\n",
      "-------4.656590938568115-------\n"
     ]
    }
   ],
   "source": [
    "etfname = 'IYW'\n",
    "date = '2020-03-17'\n",
    "\n",
    "etfData = LoadHoldingsdata().LoadHoldingsAndClean(etfname=etfname, fundholdingsdate=date)\n",
    "allData = DataApi(etfname=etfname, date=date, etfData=etfData)"
   ]
  },
  {
   "cell_type": "code",
   "execution_count": 22,
   "metadata": {},
   "outputs": [],
   "source": [
    "helperObj = Helper()\n",
    "allData.tradesDataDf['Time'] = allData.tradesDataDf['Time'].apply(lambda x: helperObj.getHumanTime(ts=x, divideby=1000))\n",
    "tradePricesDFMinutes = allData.tradesDataDf.groupby([allData.tradesDataDf['Time'], allData.tradesDataDf['Symbol']])['Trade Price']\n",
    "tradePricesDFMinutes = tradePricesDFMinutes.first().unstack(level=1)\n",
    "\n",
    "priceforNAVfilling = allData.openPriceData.set_index('Symbol').T.to_dict('records')[0]"
   ]
  },
  {
   "cell_type": "code",
   "execution_count": 23,
   "metadata": {},
   "outputs": [],
   "source": [
    "marketStartTime = datetime.datetime.strptime('13:29:00', \"%H:%M:%S\").time()\n",
    "marketEndTime = datetime.datetime.strptime('20:00:00', \"%H:%M:%S\").time()\n",
    "\n",
    "mask = (tradePricesDFMinutes.index.time >= marketStartTime) & (tradePricesDFMinutes.index.time <= marketEndTime)\n",
    "tradePricesDFMinutes=tradePricesDFMinutes[mask]\n",
    "tradePricesDFMinutes=tradePricesDFMinutes.ffill(axis=0)\n",
    "tradePricesDFMinutes = tradePricesDFMinutes.fillna(priceforNAVfilling)\n",
    "\n",
    "etfprice = tradePricesDFMinutes[etfname]\n",
    "tradePricesDFMinutes = tradePricesDFMinutes.pct_change().dropna() * 100\n",
    "\n",
    "etfpricechange = tradePricesDFMinutes[etfname]\n",
    "del tradePricesDFMinutes[etfname]"
   ]
  },
  {
   "cell_type": "code",
   "execution_count": 24,
   "metadata": {},
   "outputs": [],
   "source": [
    "allData.quotesDataDf['Time'] = allData.quotesDataDf['Time'].apply(lambda x: helperObj.getHumanTime(ts=x, divideby=1000000000))\n",
    "allData.quotesDataDf['Time'] = allData.quotesDataDf['Time'].map(lambda x: x.replace(second=0))\n",
    "allData.quotesDataDf = allData.quotesDataDf[allData.quotesDataDf['Bid Size'] != 0]\n",
    "allData.quotesDataDf = allData.quotesDataDf[allData.quotesDataDf['Ask Size'] != 0]\n",
    "allData.quotesDataDf['Total Bid Ask Size'] = allData.quotesDataDf['Ask Size'] + allData.quotesDataDf['Bid Size']\n",
    "allData.quotesDataDf['Spread'] = allData.quotesDataDf['Ask Price'] - allData.quotesDataDf['Bid Price']\n",
    "allData.quotesDataDf['MidPrice'] = (allData.quotesDataDf['Ask Price'] + allData.quotesDataDf['Bid Price']) / 2\n",
    "quotesSpreadsMinutes = allData.quotesDataDf.groupby('Time')['Spread'].mean()"
   ]
  },
  {
   "cell_type": "code",
   "execution_count": null,
   "metadata": {},
   "outputs": [],
   "source": [
    "del allData"
   ]
  },
  {
   "cell_type": "code",
   "execution_count": 17,
   "metadata": {},
   "outputs": [],
   "source": [
    "netassetvaluereturn = tradePricesDFMinutes.assign(**etfData.getETFWeights()).mul(tradePricesDFMinutes).sum(axis=1)\n",
    "\n",
    "ds = pd.concat([etfprice, etfpricechange, netassetvaluereturn, quotesSpreadsMinutes], axis=1).dropna()\n",
    "ds.columns = ['ETF Price', 'ETF Change Price %', 'Net Asset Value Change%', 'ETF Trading Spread in $']\n",
    "ds['Arbitrage in $'] = (ds['ETF Change Price %'] - ds['Net Asset Value Change%']) * ds['ETF Price'] / 100\n",
    "ds['Arbitrage in $'] = abs(ds['Arbitrage in $'])\n",
    "ds['Flag'] = 0\n",
    "ds.loc[(ds['Arbitrage in $'] > ds['ETF Trading Spread in $']) & ds['ETF Trading Spread in $'] != 0, 'Flag'] = 111\n",
    "\n",
    "holdingsChange = EtfMover(df=tradePricesDFMinutes, columnName='Change%')\n",
    "etfMoverholdings = EtfMover(df=tradePricesDFMinutes.assign(**etfData.getETFWeights()).mul(tradePricesDFMinutes).dropna(axis=1), columnName='ETFMover%')\n",
    "\n",
    "ds=pd.concat([ds,etfMoverholdings,holdingsChange],axis=1)"
   ]
  },
  {
   "cell_type": "code",
   "execution_count": 26,
   "metadata": {
    "scrolled": false
   },
   "outputs": [
    {
     "data": {
      "text/plain": [
       "Time\n",
       "2020-03-17 11:01:00    39.435000\n",
       "2020-03-17 12:49:00    8.036667 \n",
       "2020-03-17 13:01:00    6.668333 \n",
       "2020-03-17 13:29:00    3.893000 \n",
       "2020-03-17 13:30:00    0.934222 \n",
       "2020-03-17 13:31:00    0.961864 \n",
       "2020-03-17 13:32:00    0.975596 \n",
       "2020-03-17 13:33:00    1.036650 \n",
       "2020-03-17 13:34:00    0.694879 \n",
       "2020-03-17 13:35:00    0.609477 \n",
       "2020-03-17 13:36:00    0.565143 \n",
       "2020-03-17 13:37:00    0.598123 \n",
       "2020-03-17 13:38:00    0.702170 \n",
       "2020-03-17 13:39:00    0.669975 \n",
       "2020-03-17 13:40:00    0.500000 \n",
       "2020-03-17 13:41:00    0.582621 \n",
       "2020-03-17 13:42:00    0.568998 \n",
       "2020-03-17 13:43:00    0.580187 \n",
       "2020-03-17 13:44:00    0.502617 \n",
       "2020-03-17 13:45:00    0.644732 \n",
       "2020-03-17 13:46:00    0.678178 \n",
       "2020-03-17 13:47:00    0.627377 \n",
       "2020-03-17 13:48:00    0.519943 \n",
       "2020-03-17 13:49:00    0.488592 \n",
       "2020-03-17 13:50:00    0.428484 \n",
       "2020-03-17 13:51:00    0.414812 \n",
       "2020-03-17 13:52:00    0.420328 \n",
       "2020-03-17 13:53:00    0.306837 \n",
       "2020-03-17 13:54:00    0.343706 \n",
       "2020-03-17 13:55:00    0.431859 \n",
       "2020-03-17 13:56:00    0.468570 \n",
       "2020-03-17 13:57:00    0.479644 \n",
       "2020-03-17 13:58:00    0.505532 \n",
       "2020-03-17 13:59:00    0.483635 \n",
       "2020-03-17 14:00:00    0.368121 \n",
       "2020-03-17 14:01:00    0.378993 \n",
       "2020-03-17 14:02:00    0.437095 \n",
       "2020-03-17 14:03:00    0.476360 \n",
       "2020-03-17 14:04:00    0.440710 \n",
       "2020-03-17 14:05:00    0.496924 \n",
       "2020-03-17 14:06:00    0.449576 \n",
       "2020-03-17 14:07:00    0.412922 \n",
       "2020-03-17 14:08:00    0.448959 \n",
       "2020-03-17 14:09:00    0.424680 \n",
       "2020-03-17 14:10:00    0.435566 \n",
       "2020-03-17 14:11:00    0.414953 \n",
       "2020-03-17 14:12:00    0.395084 \n",
       "2020-03-17 14:13:00    0.405978 \n",
       "2020-03-17 14:14:00    0.408218 \n",
       "2020-03-17 14:15:00    0.392842 \n",
       "2020-03-17 14:16:00    0.442541 \n",
       "2020-03-17 14:17:00    0.434360 \n",
       "2020-03-17 14:18:00    0.433898 \n",
       "2020-03-17 14:19:00    0.461550 \n",
       "2020-03-17 14:20:00    0.451823 \n",
       "2020-03-17 14:21:00    0.465708 \n",
       "2020-03-17 14:22:00    0.505451 \n",
       "2020-03-17 14:23:00    0.481782 \n",
       "2020-03-17 14:24:00    0.373830 \n",
       "2020-03-17 14:25:00    0.415488 \n",
       "2020-03-17 14:26:00    0.375270 \n",
       "2020-03-17 14:27:00    0.401451 \n",
       "2020-03-17 14:28:00    0.364887 \n",
       "2020-03-17 14:29:00    0.311226 \n",
       "2020-03-17 14:30:00    0.383387 \n",
       "2020-03-17 14:31:00    0.357538 \n",
       "2020-03-17 14:32:00    0.380252 \n",
       "2020-03-17 14:33:00    0.440606 \n",
       "2020-03-17 14:34:00    0.417600 \n",
       "2020-03-17 14:35:00    0.409450 \n",
       "2020-03-17 14:36:00    0.447887 \n",
       "2020-03-17 14:37:00    0.439198 \n",
       "2020-03-17 14:38:00    0.440311 \n",
       "2020-03-17 14:39:00    0.431399 \n",
       "2020-03-17 14:40:00    0.369605 \n",
       "2020-03-17 14:41:00    0.443573 \n",
       "2020-03-17 14:42:00    0.394733 \n",
       "2020-03-17 14:43:00    0.422258 \n",
       "2020-03-17 14:44:00    0.413392 \n",
       "2020-03-17 14:45:00    0.456492 \n",
       "2020-03-17 14:46:00    0.499102 \n",
       "2020-03-17 14:47:00    0.485157 \n",
       "2020-03-17 14:48:00    0.478453 \n",
       "2020-03-17 14:49:00    0.450198 \n",
       "2020-03-17 14:50:00    0.434602 \n",
       "2020-03-17 14:51:00    0.412792 \n",
       "2020-03-17 14:52:00    0.419525 \n",
       "2020-03-17 14:53:00    0.383432 \n",
       "2020-03-17 14:54:00    0.437844 \n",
       "2020-03-17 14:55:00    0.387142 \n",
       "2020-03-17 14:56:00    0.451482 \n",
       "2020-03-17 14:57:00    0.415923 \n",
       "2020-03-17 14:58:00    0.422360 \n",
       "2020-03-17 14:59:00    0.432251 \n",
       "2020-03-17 15:00:00    0.436114 \n",
       "2020-03-17 15:01:00    0.468538 \n",
       "2020-03-17 15:02:00    0.445239 \n",
       "2020-03-17 15:03:00    0.430189 \n",
       "2020-03-17 15:04:00    0.425164 \n",
       "2020-03-17 15:05:00    0.401636 \n",
       "2020-03-17 15:06:00    0.391394 \n",
       "2020-03-17 15:07:00    0.402538 \n",
       "2020-03-17 15:08:00    0.392552 \n",
       "2020-03-17 15:09:00    0.398095 \n",
       "2020-03-17 15:10:00    0.371142 \n",
       "2020-03-17 15:11:00    0.420738 \n",
       "2020-03-17 15:12:00    0.409679 \n",
       "2020-03-17 15:13:00    0.416938 \n",
       "2020-03-17 15:14:00    0.376353 \n",
       "2020-03-17 15:15:00    0.416301 \n",
       "2020-03-17 15:16:00    0.285344 \n",
       "2020-03-17 15:17:00    0.423436 \n",
       "2020-03-17 15:18:00    0.451266 \n",
       "2020-03-17 15:19:00    0.382893 \n",
       "2020-03-17 15:20:00    0.388979 \n",
       "2020-03-17 15:21:00    0.386197 \n",
       "2020-03-17 15:22:00    0.438733 \n",
       "2020-03-17 15:23:00    0.451856 \n",
       "2020-03-17 15:24:00    0.449604 \n",
       "2020-03-17 15:25:00    0.381696 \n",
       "2020-03-17 15:26:00    0.397900 \n",
       "2020-03-17 15:27:00    0.383926 \n",
       "2020-03-17 15:28:00    0.388622 \n",
       "2020-03-17 15:29:00    0.383749 \n",
       "2020-03-17 15:30:00    0.423586 \n",
       "2020-03-17 15:31:00    0.424256 \n",
       "2020-03-17 15:32:00    0.445115 \n",
       "2020-03-17 15:33:00    0.396963 \n",
       "2020-03-17 15:34:00    0.403862 \n",
       "2020-03-17 15:35:00    0.424740 \n",
       "2020-03-17 15:36:00    0.440676 \n",
       "2020-03-17 15:37:00    0.399642 \n",
       "2020-03-17 15:38:00    0.384104 \n",
       "2020-03-17 15:39:00    0.347910 \n",
       "2020-03-17 15:40:00    0.345118 \n",
       "2020-03-17 15:41:00    0.409661 \n",
       "2020-03-17 15:42:00    0.407658 \n",
       "2020-03-17 15:43:00    0.317225 \n",
       "2020-03-17 15:44:00    0.351538 \n",
       "2020-03-17 15:45:00    0.236244 \n",
       "2020-03-17 15:46:00    0.287122 \n",
       "2020-03-17 15:47:00    0.261649 \n",
       "2020-03-17 15:48:00    0.339856 \n",
       "2020-03-17 15:49:00    0.381109 \n",
       "2020-03-17 15:50:00    0.345538 \n",
       "2020-03-17 15:51:00    0.385903 \n",
       "2020-03-17 15:52:00    0.310953 \n",
       "2020-03-17 15:53:00    0.342883 \n",
       "2020-03-17 15:54:00    0.351962 \n",
       "2020-03-17 15:55:00    0.354272 \n",
       "2020-03-17 15:56:00    0.426949 \n",
       "2020-03-17 15:57:00    0.434510 \n",
       "2020-03-17 15:58:00    0.433952 \n",
       "2020-03-17 15:59:00    0.437291 \n",
       "2020-03-17 16:00:00    0.422096 \n",
       "2020-03-17 16:01:00    0.397290 \n",
       "2020-03-17 16:02:00    0.371956 \n",
       "2020-03-17 16:03:00    0.383374 \n",
       "2020-03-17 16:04:00    0.335134 \n",
       "2020-03-17 16:05:00    0.405578 \n",
       "2020-03-17 16:06:00    0.371233 \n",
       "2020-03-17 16:07:00    0.371868 \n",
       "2020-03-17 16:08:00    0.341755 \n",
       "2020-03-17 16:09:00    0.379932 \n",
       "2020-03-17 16:10:00    0.450295 \n",
       "2020-03-17 16:11:00    0.359580 \n",
       "2020-03-17 16:12:00    0.387622 \n",
       "2020-03-17 16:13:00    0.358577 \n",
       "2020-03-17 16:14:00    0.380283 \n",
       "2020-03-17 16:15:00    0.419311 \n",
       "2020-03-17 16:16:00    0.377658 \n",
       "2020-03-17 16:17:00    0.418090 \n",
       "2020-03-17 16:18:00    0.424308 \n",
       "2020-03-17 16:19:00    0.424794 \n",
       "2020-03-17 16:20:00    0.343129 \n",
       "2020-03-17 16:21:00    0.367309 \n",
       "2020-03-17 16:22:00    0.357456 \n",
       "2020-03-17 16:23:00    0.395625 \n",
       "2020-03-17 16:24:00    0.444717 \n",
       "2020-03-17 16:25:00    0.428367 \n",
       "2020-03-17 16:26:00    0.335778 \n",
       "2020-03-17 16:27:00    0.395053 \n",
       "2020-03-17 16:28:00    0.416233 \n",
       "2020-03-17 16:29:00    0.411337 \n",
       "2020-03-17 16:30:00    0.364684 \n",
       "2020-03-17 16:31:00    0.409221 \n",
       "2020-03-17 16:32:00    0.393241 \n",
       "2020-03-17 16:33:00    0.187411 \n",
       "2020-03-17 16:34:00    0.339085 \n",
       "2020-03-17 16:35:00    0.228300 \n",
       "2020-03-17 16:36:00    0.204642 \n",
       "2020-03-17 16:37:00    0.343428 \n",
       "2020-03-17 16:38:00    0.300575 \n",
       "2020-03-17 16:39:00    0.406999 \n",
       "2020-03-17 16:40:00    0.406258 \n",
       "2020-03-17 16:41:00    0.370272 \n",
       "2020-03-17 16:42:00    0.206776 \n",
       "2020-03-17 16:43:00    0.252146 \n",
       "2020-03-17 16:44:00    0.271273 \n",
       "2020-03-17 16:45:00    0.282830 \n",
       "2020-03-17 16:46:00    0.235741 \n",
       "Name: Spread, dtype: float64"
      ]
     },
     "execution_count": 26,
     "metadata": {},
     "output_type": "execute_result"
    }
   ],
   "source": [
    "quotesSpreadsMinutes"
   ]
  },
  {
   "cell_type": "code",
   "execution_count": 2,
   "metadata": {},
   "outputs": [
    {
     "name": "stdout",
     "output_type": "stream",
     "text": [
      "Collecting matplotlib\n",
      "\u001b[?25l  Downloading https://files.pythonhosted.org/packages/94/77/a37c8877474f3b75dfe18f490189243d39aabd6c7629ffde5e5512d070fd/matplotlib-3.2.1-cp36-cp36m-macosx_10_9_x86_64.whl (12.4MB)\n",
      "\u001b[K     |████████████████████████████████| 12.5MB 459kB/s eta 0:00:01     |██████████████████████▍         | 8.7MB 24.3MB/s eta 0:00:01     |██████████████████████▋         | 8.8MB 24.3MB/s eta 0:00:01     |████████████████████████████████| 12.4MB 459kB/s eta 0:00:01\n",
      "\u001b[?25hRequirement already satisfied, skipping upgrade: pyparsing!=2.0.4,!=2.1.2,!=2.1.6,>=2.0.1 in /Users/kshitizsharma/miniconda3/lib/python3.6/site-packages (from matplotlib) (2.4.2)\n",
      "Requirement already satisfied, skipping upgrade: kiwisolver>=1.0.1 in /Users/kshitizsharma/miniconda3/lib/python3.6/site-packages (from matplotlib) (1.1.0)\n",
      "Requirement already satisfied, skipping upgrade: cycler>=0.10 in /Users/kshitizsharma/miniconda3/lib/python3.6/site-packages (from matplotlib) (0.10.0)\n",
      "Requirement already satisfied, skipping upgrade: python-dateutil>=2.1 in /Users/kshitizsharma/miniconda3/lib/python3.6/site-packages (from matplotlib) (2.8.0)\n",
      "Requirement already satisfied, skipping upgrade: numpy>=1.11 in /Users/kshitizsharma/miniconda3/lib/python3.6/site-packages (from matplotlib) (1.16.4)\n",
      "Requirement already satisfied, skipping upgrade: setuptools in /Users/kshitizsharma/miniconda3/lib/python3.6/site-packages (from kiwisolver>=1.0.1->matplotlib) (41.2.0)\n",
      "Requirement already satisfied, skipping upgrade: six in /Users/kshitizsharma/miniconda3/lib/python3.6/site-packages (from cycler>=0.10->matplotlib) (1.13.0)\n",
      "Installing collected packages: matplotlib\n",
      "  Found existing installation: matplotlib 3.1.1\n",
      "    Uninstalling matplotlib-3.1.1:\n",
      "      Successfully uninstalled matplotlib-3.1.1\n",
      "Successfully installed matplotlib-3.2.1\n",
      "\u001b[33mWARNING: You are using pip version 19.3.1; however, version 20.0.2 is available.\n",
      "You should consider upgrading via the 'pip install --upgrade pip' command.\u001b[0m\n"
     ]
    }
   ],
   "source": [
    "! pip install --upgrade matplotlib"
   ]
  },
  {
   "cell_type": "code",
   "execution_count": 3,
   "metadata": {},
   "outputs": [
    {
     "ename": "ModuleNotFoundError",
     "evalue": "No module named 'mpl_finance'",
     "output_type": "error",
     "traceback": [
      "\u001b[0;31m---------------------------------------------------------------------------\u001b[0m",
      "\u001b[0;31mModuleNotFoundError\u001b[0m                       Traceback (most recent call last)",
      "\u001b[0;32m<ipython-input-3-5adcfb612568>\u001b[0m in \u001b[0;36m<module>\u001b[0;34m\u001b[0m\n\u001b[0;32m----> 1\u001b[0;31m \u001b[0;32mfrom\u001b[0m \u001b[0mmpl_finance\u001b[0m \u001b[0;32mimport\u001b[0m \u001b[0mcandlestick_ohlc\u001b[0m\u001b[0;34m\u001b[0m\u001b[0m\n\u001b[0m",
      "\u001b[0;31mModuleNotFoundError\u001b[0m: No module named 'mpl_finance'"
     ]
    }
   ],
   "source": [
    "from mpl_finance import candlestick_ohlc"
   ]
  },
  {
   "cell_type": "code",
   "execution_count": 5,
   "metadata": {},
   "outputs": [
    {
     "name": "stdout",
     "output_type": "stream",
     "text": [
      "Collecting mplfinance\n",
      "  Downloading https://files.pythonhosted.org/packages/6a/d7/6cf850a7d033e997b6b0f934840b4540d054c26f809d158b33dc94e6d1fb/mplfinance-0.12.3a3-py3-none-any.whl\n",
      "Requirement already satisfied: matplotlib in /Users/kshitizsharma/miniconda3/lib/python3.6/site-packages (from mplfinance) (3.2.1)\n",
      "Requirement already satisfied: pandas in /Users/kshitizsharma/miniconda3/lib/python3.6/site-packages (from mplfinance) (0.25.0)\n",
      "Requirement already satisfied: kiwisolver>=1.0.1 in /Users/kshitizsharma/miniconda3/lib/python3.6/site-packages (from matplotlib->mplfinance) (1.1.0)\n",
      "Requirement already satisfied: pyparsing!=2.0.4,!=2.1.2,!=2.1.6,>=2.0.1 in /Users/kshitizsharma/miniconda3/lib/python3.6/site-packages (from matplotlib->mplfinance) (2.4.2)\n",
      "Requirement already satisfied: numpy>=1.11 in /Users/kshitizsharma/miniconda3/lib/python3.6/site-packages (from matplotlib->mplfinance) (1.16.4)\n",
      "Requirement already satisfied: cycler>=0.10 in /Users/kshitizsharma/miniconda3/lib/python3.6/site-packages (from matplotlib->mplfinance) (0.10.0)\n",
      "Requirement already satisfied: python-dateutil>=2.1 in /Users/kshitizsharma/miniconda3/lib/python3.6/site-packages (from matplotlib->mplfinance) (2.8.0)\n",
      "Requirement already satisfied: pytz>=2017.2 in /Users/kshitizsharma/miniconda3/lib/python3.6/site-packages (from pandas->mplfinance) (2019.1)\n",
      "Requirement already satisfied: setuptools in /Users/kshitizsharma/miniconda3/lib/python3.6/site-packages (from kiwisolver>=1.0.1->matplotlib->mplfinance) (41.2.0)\n",
      "Requirement already satisfied: six in /Users/kshitizsharma/miniconda3/lib/python3.6/site-packages (from cycler>=0.10->matplotlib->mplfinance) (1.13.0)\n",
      "Installing collected packages: mplfinance\n",
      "Successfully installed mplfinance-0.12.3a3\n",
      "\u001b[33mWARNING: You are using pip version 19.3.1; however, version 20.0.2 is available.\n",
      "You should consider upgrading via the 'pip install --upgrade pip' command.\u001b[0m\n"
     ]
    }
   ],
   "source": [
    "! pip install mplfinance"
   ]
  },
  {
   "cell_type": "code",
   "execution_count": 7,
   "metadata": {},
   "outputs": [
    {
     "name": "stdout",
     "output_type": "stream",
     "text": [
      "\u001b[31mERROR: Could not find a version that satisfies the requirement matplotlib.finance (from versions: none)\u001b[0m\n",
      "\u001b[31mERROR: No matching distribution found for matplotlib.finance\u001b[0m\n",
      "\u001b[33mWARNING: You are using pip version 19.3.1; however, version 20.0.2 is available.\n",
      "You should consider upgrading via the 'pip install --upgrade pip' command.\u001b[0m\n"
     ]
    }
   ],
   "source": [
    "! pip install matplotlib.finance"
   ]
  },
  {
   "cell_type": "code",
   "execution_count": null,
   "metadata": {},
   "outputs": [],
   "source": []
  }
 ],
 "metadata": {
  "kernelspec": {
   "display_name": "Python 3",
   "language": "python",
   "name": "python3"
  },
  "language_info": {
   "codemirror_mode": {
    "name": "ipython",
    "version": 3
   },
   "file_extension": ".py",
   "mimetype": "text/x-python",
   "name": "python",
   "nbconvert_exporter": "python",
   "pygments_lexer": "ipython3",
   "version": "3.6.5"
  }
 },
 "nbformat": 4,
 "nbformat_minor": 4
}
