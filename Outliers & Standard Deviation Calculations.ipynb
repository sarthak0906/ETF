{
 "cells": [
  {
   "cell_type": "markdown",
   "metadata": {},
   "source": [
    "# Analyzing outliers from data & Returning Dates"
   ]
  },
  {
   "cell_type": "code",
   "execution_count": 81,
   "metadata": {},
   "outputs": [],
   "source": [
    "import datetime as dt\n",
    "import matplotlib.pyplot as plt\n",
    "from matplotlib import style\n",
    "import pandas as pd\n",
    "import pandas_datareader.data as web\n",
    "import seaborn as sns\n",
    "from scipy.stats import norm\n",
    "from scipy import stats\n",
    "import numpy as np\n",
    "import os\n",
    "import time\n",
    "\n",
    "\n",
    "\n",
    "##### ETF Data Clean up ###########\n",
    "\n",
    "class ETFDataCleanup(object):\n",
    "    \n",
    "    def __init__(self):\n",
    "        pass\n",
    "\n",
    "    def showNaColumns(self,df):\n",
    "        s=df.isnull().sum()\n",
    "        print(s[s>0])\n",
    "    \n",
    "    def dropNAColumns(self,df):\n",
    "        return df.dropna(axis='columns')\n",
    "    \n",
    "    def computeDailyReturns(self,df):\n",
    "        return df.pct_change().dropna()        \n",
    "    \n",
    "    \n",
    "####### Get Data for Constituents of ETF\n",
    "\n",
    "class ConstituentsData(ETFDataCleanup):\n",
    "    \n",
    "    def __init__(self,fileName=None,startdate=None,enddate=None):\n",
    "        self.fileName=fileName\n",
    "        self.startdate=startdate\n",
    "        self.enddate=enddate\n",
    "        self.constituentdata=[]\n",
    "        self.constituentcloseDF=[]\n",
    "        self.tickerdf=[]\n",
    "        self.changeDF=[]\n",
    "        self.waDF=[]\n",
    "    \n",
    "    def getconstituentdata(self):\n",
    "        self.tickerdf = pd.read_excel(self.fileName)\n",
    "        tickers=self.tickerdf['Ticker']\n",
    "        self.tickerdf.set_index('Ticker',inplace=True)\n",
    "        self.constituentdata =  web.DataReader(tickers,'yahoo',self.startdate,self.enddate)\n",
    "        self.constituentcloseDF = self.constituentdata['Close'].iloc[:, :]\n",
    "        \n",
    "    def stringWeightsToFloat(self):\n",
    "        self.tickerdf['Weights']=self.tickerdf['Weights'].apply(lambda x: x.replace('%','')).astype(float)\n",
    "    \n",
    "    def findNetAssetValue(self):\n",
    "        self.waDF=self.changeDF\n",
    "        for col in self.changeDF.columns:\n",
    "            self.waDF[col]=self.changeDF[col]*self.tickerdf['Weights'].loc[col]\n",
    "        self.waDF['NAV']=self.waDF.sum(axis=1)/100\n",
    "\n",
    "####### Get prices of ETF        \n",
    "class ETFStockPrices(ETFDataCleanup):\n",
    "    \n",
    "    def __init__(self,etfticker=None,startdate=None,enddate=None):\n",
    "        self.etfticker=etfticker\n",
    "        self.startdate=startdate\n",
    "        self.enddate=enddate\n",
    "        self.etfdata=[]\n",
    "        self.etfchangeDF=[]\n",
    "\n",
    "        \n",
    "    def getETFTickerData(self):\n",
    "        self.etfdata =  web.DataReader(self.etfticker,'yahoo',self.startdate,self.enddate)\n",
    " \n",
    "\n",
    "\n",
    "class ETFArbitrage(object):\n",
    "\n",
    "    def __init__(self,etfob,waDF):\n",
    "        self.navDF=pd.merge(etfob,waDF['NAV'],left_index=True,right_index=True)\n",
    "        self.navDF['Date']=self.navDF.index\n",
    "        self.difDF=[]\n",
    "    \n",
    "    def scatterplot(self):\n",
    "        plt.scatter(self.navDF['Close'],self.navDF['NAV'])\n",
    "        \n",
    "    def scatterplot2(self):\n",
    "        #change figure size for the plot\n",
    "        fig_size = plt.rcParams[\"figure.figsize\"]\n",
    "        fig_size[0]=12\n",
    "        fig_size[1]=6\n",
    "        plt.rcParams[\"figure.figsize\"]=fig_size\n",
    "\n",
    "        self.difDF=(self.navDF['Close']-self.navDF['NAV'])*100\n",
    "        plt.scatter(self.navDF['Date'],self.difDF)\n",
    "    \n",
    "    def seaborndist(self):\n",
    "        sns.distplot(self.difDF.values, hist=True, kde=True, \n",
    "             bins='auto', color = 'black', \n",
    "             hist_kws={'edgecolor':'black'},\n",
    "             kde_kws={'linewidth': 2})"
   ]
  },
  {
   "cell_type": "markdown",
   "metadata": {},
   "source": [
    "# Load any ETF you want"
   ]
  },
  {
   "cell_type": "code",
   "execution_count": 112,
   "metadata": {
    "scrolled": false
   },
   "outputs": [
    {
     "name": "stdout",
     "output_type": "stream",
     "text": [
      "XLK\n",
      "Tickers with NA Values\n",
      "Symbols\n",
      "NLOK    64\n",
      "dtype: int64\n",
      "***************\n",
      "Check for NA Values again\n",
      "Series([], dtype: int64)\n",
      "***************\n",
      "Data for Constituents\n",
      "Symbols         AAPL       ACN      ADBE       ADI       ADP       ADS  \\\n",
      "Date                                                                     \n",
      "2019-01-03 -2.009081 -0.068625 -0.101904 -0.039867 -0.035030 -0.001771   \n",
      "2019-01-04  0.861043  0.078156  0.125472  0.016024  0.046231  0.004738   \n",
      "2019-01-07 -0.044895  0.006982  0.035017  0.004150 -0.006276 -0.000004   \n",
      "2019-01-08  0.384503  0.050832  0.038487  0.016101  0.006843  0.001217   \n",
      "2019-01-09  0.342522  0.010109  0.030493  0.016725  0.001060  0.001532   \n",
      "\n",
      "Symbols         ADSK      AKAM      AMAT       AMD  ...       TEL       TXN  \\\n",
      "Date                                                ...                       \n",
      "2019-01-03 -0.036388 -0.005106 -0.050412 -0.080351  ... -0.018674 -0.109100   \n",
      "2019-01-04  0.034828  0.006697  0.059581  0.097214  ...  0.013116  0.083675   \n",
      "2019-01-07  0.022844  0.007204  0.015490  0.070237  ...  0.009888  0.031862   \n",
      "2019-01-08  0.005719  0.004544 -0.035257  0.007438  ... -0.001649 -0.002349   \n",
      "2019-01-09  0.014297  0.002983  0.036746 -0.022940  ...  0.010060  0.036459   \n",
      "\n",
      "Symbols            V      VRSN       WDC        WU      XLNX       XRX  \\\n",
      "Date                                                                     \n",
      "2019-01-03 -0.191715 -0.011546 -0.021147 -0.002678 -0.014307 -0.002186   \n",
      "2019-01-04  0.229192  0.014765  0.013130  0.002217  0.017595  0.003860   \n",
      "2019-01-07  0.095931  0.005383  0.011012 -0.000497  0.010038  0.002152   \n",
      "2019-01-08  0.028935  0.012032 -0.002981  0.000299 -0.007239  0.003303   \n",
      "2019-01-09  0.062611 -0.002692  0.013666  0.002490  0.003409  0.001437   \n",
      "\n",
      "Symbols         ZBRA       NAV  \n",
      "Date                            \n",
      "2019-01-03 -0.012581 -0.053397  \n",
      "2019-01-04  0.008707  0.044840  \n",
      "2019-01-07  0.003185  0.008989  \n",
      "2019-01-08  0.001406  0.009350  \n",
      "2019-01-09  0.005212  0.013077  \n",
      "\n",
      "[5 rows x 70 columns]\n",
      "Show Any Empty Values\n",
      "Series([], dtype: int64)\n",
      "***************\n",
      "Data for ETF stock prices\n",
      "Date\n",
      "2019-01-03   -0.050468\n",
      "2019-01-04    0.044320\n",
      "2019-01-07    0.008943\n",
      "2019-01-08    0.008380\n",
      "2019-01-09    0.012946\n",
      "Name: Close, dtype: float64\n",
      "****************\n",
      "Charts\n"
     ]
    },
    {
     "data": {
      "image/png": "[encoded data removed]",
      "text/plain": [
       "<Figure size 864x432 with 1 Axes>"
      ]
     },
     "metadata": {
      "needs_background": "light"
     },
     "output_type": "display_data"
    },
    {
     "data": {
      "image/png": "[encoded data removed]",
      "text/plain": [
       "<Figure size 864x432 with 1 Axes>"
      ]
     },
     "metadata": {
      "needs_background": "light"
     },
     "output_type": "display_data"
    },
    {
     "data": {
      "image/png": "[encoded data removed]",
      "text/plain": [
       "<Figure size 864x432 with 1 Axes>"
      ]
     },
     "metadata": {
      "needs_background": "light"
     },
     "output_type": "display_data"
    }
   ],
   "source": [
    "tickeretf=\"XLK\"\n",
    "\n",
    "filename='ETFDailyData'+'/'+dt.datetime.now().strftime(\"%Y%m%d\")+'/'+tickeretf+'.xls'\n",
    "startdate=dt.datetime(2019,1,1)\n",
    "enddate=dt.datetime(2020,1,22)\n",
    "\n",
    "ob=ConstituentsData(fileName=filename,startdate=startdate,enddate=enddate)\n",
    "ob.getconstituentdata()\n",
    "print(tickeretf)\n",
    "print(\"Tickers with NA Values\")\n",
    "ob.showNaColumns(ob.constituentcloseDF)\n",
    "ob.constituentcloseDF=ob.dropNAColumns(ob.constituentcloseDF)\n",
    "print(\"***************\")\n",
    "print(\"Check for NA Values again\")\n",
    "ob.showNaColumns(ob.constituentcloseDF)\n",
    "ob.changeDF=ob.computeDailyReturns(ob.constituentcloseDF)\n",
    "ob.stringWeightsToFloat()\n",
    "ob.findNetAssetValue()\n",
    "\n",
    "print(\"***************\")\n",
    "print(\"Data for Constituents\")\n",
    "print(ob.waDF.head(5))\n",
    "\n",
    "etfob=ETFStockPrices(etfticker=tickeretf,startdate=dt.datetime(2019,1,1),enddate=dt.datetime(2020,1,22))\n",
    "etfob.getETFTickerData()\n",
    "print(\"Show Any Empty Values\")\n",
    "etfob.showNaColumns(etfob.etfdata)\n",
    "etfob.etfchangeDF=etfob.computeDailyReturns(etfob.etfdata['Close'])\n",
    "\n",
    "print(\"***************\")\n",
    "print(\"Data for ETF stock prices\")\n",
    "print(etfob.etfchangeDF.head(5))\n",
    "\n",
    "print(\"****************\")\n",
    "print(\"Charts\")\n",
    "arbob=ETFArbitrage(etfob.etfchangeDF,ob.waDF)\n",
    "arbob.scatterplot()\n",
    "plt.show()\n",
    "arbob.scatterplot2()\n",
    "plt.show()\n",
    "arbob.seaborndist()\n",
    "plt.show()"
   ]
  },
  {
   "cell_type": "markdown",
   "metadata": {},
   "source": [
    "# List down all objects of 3 different classes"
   ]
  },
  {
   "cell_type": "code",
   "execution_count": 113,
   "metadata": {},
   "outputs": [
    {
     "name": "stdout",
     "output_type": "stream",
     "text": [
      "Constituents Data Objects\n",
      "['__class__', '__delattr__', '__dict__', '__dir__', '__doc__', '__eq__', '__format__', '__ge__', '__getattribute__', '__gt__', '__hash__', '__init__', '__init_subclass__', '__le__', '__lt__', '__module__', '__ne__', '__new__', '__reduce__', '__reduce_ex__', '__repr__', '__setattr__', '__sizeof__', '__str__', '__subclasshook__', '__weakref__', 'changeDF', 'computeDailyReturns', 'constituentcloseDF', 'constituentdata', 'dropNAColumns', 'enddate', 'fileName', 'findNetAssetValue', 'getconstituentdata', 'showNaColumns', 'startdate', 'stringWeightsToFloat', 'tickerdf', 'waDF']\n",
      "*************************\n",
      "ETF Price Object\n",
      "['__class__', '__delattr__', '__dict__', '__dir__', '__doc__', '__eq__', '__format__', '__ge__', '__getattribute__', '__gt__', '__hash__', '__init__', '__init_subclass__', '__le__', '__lt__', '__module__', '__ne__', '__new__', '__reduce__', '__reduce_ex__', '__repr__', '__setattr__', '__sizeof__', '__str__', '__subclasshook__', '__weakref__', 'computeDailyReturns', 'dropNAColumns', 'enddate', 'etfchangeDF', 'etfdata', 'etfticker', 'getETFTickerData', 'showNaColumns', 'startdate']\n",
      "*************************\n",
      "Arbitrage Data Object\n",
      "['__class__', '__delattr__', '__dict__', '__dir__', '__doc__', '__eq__', '__format__', '__ge__', '__getattribute__', '__gt__', '__hash__', '__init__', '__init_subclass__', '__le__', '__lt__', '__module__', '__ne__', '__new__', '__reduce__', '__reduce_ex__', '__repr__', '__setattr__', '__sizeof__', '__str__', '__subclasshook__', '__weakref__', 'difDF', 'navDF', 'scatterplot', 'scatterplot2', 'seaborndist']\n"
     ]
    }
   ],
   "source": [
    "print(\"Constituents Data Objects\")\n",
    "print(dir(ob))\n",
    "\n",
    "print(\"*************************\")\n",
    "print(\"ETF Price Object\")\n",
    "print(dir(etfob))\n",
    "\n",
    "print(\"*************************\")\n",
    "print(\"Arbitrage Data Object\")\n",
    "print(dir(arbob))"
   ]
  },
  {
   "cell_type": "code",
   "execution_count": 114,
   "metadata": {},
   "outputs": [
    {
     "name": "stdout",
     "output_type": "stream",
     "text": [
      "Date\n",
      "2019-01-03    0.292910\n",
      "2019-01-04   -0.052035\n",
      "2019-01-07   -0.004636\n",
      "2019-01-08   -0.096958\n",
      "2019-01-09   -0.013189\n",
      "dtype: float64\n",
      "               Close       NAV       Date\n",
      "Date                                     \n",
      "2019-01-03 -0.050468 -0.053397 2019-01-03\n",
      "2019-01-04  0.044320  0.044840 2019-01-04\n",
      "2019-01-07  0.008943  0.008989 2019-01-07\n",
      "2019-01-08  0.008380  0.009350 2019-01-08\n",
      "2019-01-09  0.012946  0.013077 2019-01-09\n"
     ]
    }
   ],
   "source": [
    "print(arbob.difDF.head(5))\n",
    "\n",
    "print(arbob.navDF.head(5))"
   ]
  },
  {
   "cell_type": "markdown",
   "metadata": {},
   "source": [
    "# Detecting & removing outliers from the dataset\n",
    "\n",
    "## Z-Score Method"
   ]
  },
  {
   "cell_type": "code",
   "execution_count": 133,
   "metadata": {},
   "outputs": [
    {
     "data": {
      "text/html": [
       "<div>\n",
       "<style scoped>\n",
       "    .dataframe tbody tr th:only-of-type {\n",
       "        vertical-align: middle;\n",
       "    }\n",
       "\n",
       "    .dataframe tbody tr th {\n",
       "        vertical-align: top;\n",
       "    }\n",
       "\n",
       "    .dataframe thead th {\n",
       "        text-align: right;\n",
       "    }\n",
       "</style>\n",
       "<table border=\"1\" class=\"dataframe\">\n",
       "  <thead>\n",
       "    <tr style=\"text-align: right;\">\n",
       "      <th></th>\n",
       "      <th>Mispricing</th>\n",
       "      <th>Z-Score</th>\n",
       "    </tr>\n",
       "    <tr>\n",
       "      <th>Date</th>\n",
       "      <th></th>\n",
       "      <th></th>\n",
       "    </tr>\n",
       "  </thead>\n",
       "  <tbody>\n",
       "    <tr>\n",
       "      <th>2019-01-03</th>\n",
       "      <td>0.292910</td>\n",
       "      <td>3.531426</td>\n",
       "    </tr>\n",
       "    <tr>\n",
       "      <th>2019-01-30</th>\n",
       "      <td>-0.318511</td>\n",
       "      <td>3.497754</td>\n",
       "    </tr>\n",
       "    <tr>\n",
       "      <th>2019-03-15</th>\n",
       "      <td>-0.340703</td>\n",
       "      <td>3.752894</td>\n",
       "    </tr>\n",
       "    <tr>\n",
       "      <th>2019-06-21</th>\n",
       "      <td>-0.365862</td>\n",
       "      <td>4.042131</td>\n",
       "    </tr>\n",
       "    <tr>\n",
       "      <th>2019-07-25</th>\n",
       "      <td>0.366746</td>\n",
       "      <td>4.380276</td>\n",
       "    </tr>\n",
       "    <tr>\n",
       "      <th>2019-07-26</th>\n",
       "      <td>-0.378896</td>\n",
       "      <td>4.191971</td>\n",
       "    </tr>\n",
       "    <tr>\n",
       "      <th>2019-09-20</th>\n",
       "      <td>-0.350222</td>\n",
       "      <td>3.862321</td>\n",
       "    </tr>\n",
       "    <tr>\n",
       "      <th>2019-12-20</th>\n",
       "      <td>-0.322425</td>\n",
       "      <td>3.542752</td>\n",
       "    </tr>\n",
       "  </tbody>\n",
       "</table>\n",
       "</div>"
      ],
      "text/plain": [
       "            Mispricing   Z-Score\n",
       "Date                            \n",
       "2019-01-03    0.292910  3.531426\n",
       "2019-01-30   -0.318511  3.497754\n",
       "2019-03-15   -0.340703  3.752894\n",
       "2019-06-21   -0.365862  4.042131\n",
       "2019-07-25    0.366746  4.380276\n",
       "2019-07-26   -0.378896  4.191971\n",
       "2019-09-20   -0.350222  3.862321\n",
       "2019-12-20   -0.322425  3.542752"
      ]
     },
     "execution_count": 133,
     "metadata": {},
     "output_type": "execute_result"
    }
   ],
   "source": [
    "# Store a copy of the df\n",
    "temp=arbob.difDF.copy()\n",
    "\n",
    "# Convert the time series into a dataframe\n",
    "temp=pd.DataFrame(temp)\n",
    "temp.columns=['Mispricing']\n",
    "\n",
    "# Calculate Z-Score for the Mispricing Column\n",
    "temp['Z-Score'] = np.abs(stats.zscore(temp['Mispricing']))\n",
    "\n",
    "# Define a thresold and find anything above 3 Std\n",
    "thresoldStandrdDeviation=3\n",
    "temp[temp['Z-Score']>thresoldStandrdDeviation]"
   ]
  },
  {
   "cell_type": "code",
   "execution_count": 135,
   "metadata": {},
   "outputs": [],
   "source": [
    "# Find the biggest market movers(Stocks with greatest movement) that day and news, what was the possible \n",
    "# reasoning for falling stocks\n",
    "\n",
    "\n"
   ]
  }
 ],
 "metadata": {
  "kernelspec": {
   "display_name": "Python 3",
   "language": "python",
   "name": "python3"
  },
  "language_info": {
   "codemirror_mode": {
    "name": "ipython",
    "version": 3
   },
   "file_extension": ".py",
   "mimetype": "text/x-python",
   "name": "python",
   "nbconvert_exporter": "python",
   "pygments_lexer": "ipython3",
   "version": "3.6.8"
  }
 },
 "nbformat": 4,
 "nbformat_minor": 2
}
