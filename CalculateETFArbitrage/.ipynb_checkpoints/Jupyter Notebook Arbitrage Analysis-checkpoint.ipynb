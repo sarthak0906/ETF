{
 "cells": [
  {
   "cell_type": "code",
   "execution_count": 12,
   "metadata": {},
   "outputs": [],
   "source": [
    "from pymongo import MongoClient\n",
    "connectionLocal = MongoClient('localhost', 27017)\n",
    "db = connectionLocal.ETF_db\n",
    "arbitragecollection = db.ArbitrageCollection"
   ]
  },
  {
   "cell_type": "code",
   "execution_count": 15,
   "metadata": {},
   "outputs": [
    {
     "ename": "TypeError",
     "evalue": "'Collection' object is not callable. If you meant to call the 'findById' method on a 'Collection' object it is failing because no such method exists.",
     "output_type": "error",
     "traceback": [
      "\u001b[0;31m---------------------------------------------------------------------------\u001b[0m",
      "\u001b[0;31mTypeError\u001b[0m                                 Traceback (most recent call last)",
      "\u001b[0;32m<ipython-input-15-ef8b1e1f84b0>\u001b[0m in \u001b[0;36m<module>\u001b[0;34m\u001b[0m\n\u001b[1;32m      3\u001b[0m \u001b[0mc20200316\u001b[0m \u001b[0;34m=\u001b[0m \u001b[0;34m'5e7c0d9d750b2d5f51b47874'\u001b[0m\u001b[0;34m\u001b[0m\u001b[0m\n\u001b[1;32m      4\u001b[0m \u001b[0;34m\u001b[0m\u001b[0m\n\u001b[0;32m----> 5\u001b[0;31m \u001b[0mdataD18\u001b[0m \u001b[0;34m=\u001b[0m \u001b[0marbitragecollection\u001b[0m\u001b[0;34m.\u001b[0m\u001b[0mfindById\u001b[0m\u001b[0;34m(\u001b[0m\u001b[0;34m'5e7d42a03dbbc6ecf49421d1'\u001b[0m\u001b[0;34m)\u001b[0m\u001b[0;34m\u001b[0m\u001b[0m\n\u001b[0m\u001b[1;32m      6\u001b[0m \u001b[0mdataD17\u001b[0m \u001b[0;34m=\u001b[0m \u001b[0marbitragecollection\u001b[0m\u001b[0;34m.\u001b[0m\u001b[0mfindById\u001b[0m\u001b[0;34m(\u001b[0m\u001b[0;34m'5e7cd6ca5b8c2909c8e2c6ed'\u001b[0m\u001b[0;34m)\u001b[0m\u001b[0;34m\u001b[0m\u001b[0m\n\u001b[1;32m      7\u001b[0m \u001b[0mdataD16\u001b[0m \u001b[0;34m=\u001b[0m \u001b[0marbitragecollection\u001b[0m\u001b[0;34m.\u001b[0m\u001b[0mfindById\u001b[0m\u001b[0;34m(\u001b[0m\u001b[0;34m'5e7c0d9d750b2d5f51b47874'\u001b[0m\u001b[0;34m)\u001b[0m\u001b[0;34m\u001b[0m\u001b[0m\n",
      "\u001b[0;32m~/miniconda3/lib/python3.6/site-packages/pymongo/collection.py\u001b[0m in \u001b[0;36m__call__\u001b[0;34m(self, *args, **kwargs)\u001b[0m\n\u001b[1;32m   3341\u001b[0m                         \u001b[0;34m\"call the '%s' method on a 'Collection' object it is \"\u001b[0m\u001b[0;34m\u001b[0m\u001b[0m\n\u001b[1;32m   3342\u001b[0m                         \u001b[0;34m\"failing because no such method exists.\"\u001b[0m \u001b[0;34m%\u001b[0m\u001b[0;34m\u001b[0m\u001b[0m\n\u001b[0;32m-> 3343\u001b[0;31m                         self.__name.split(\".\")[-1])\n\u001b[0m",
      "\u001b[0;31mTypeError\u001b[0m: 'Collection' object is not callable. If you meant to call the 'findById' method on a 'Collection' object it is failing because no such method exists."
     ]
    }
   ],
   "source": [
    "a20200318 = '5e7d42a03dbbc6ecf49421d1'\n",
    "b20200317 = '5e7cd6ca5b8c2909c8e2c6ed'\n",
    "c20200316 = '5e7c0d9d750b2d5f51b47874'\n",
    "\n",
    "dataD18 = arbitragecollection.findById('5e7d42a03dbbc6ecf49421d1')\n",
    "dataD17 = arbitragecollection.findById('5e7cd6ca5b8c2909c8e2c6ed')\n",
    "dataD16 = arbitragecollection.findById('5e7c0d9d750b2d5f51b47874')"
   ]
  },
  {
   "cell_type": "code",
   "execution_count": null,
   "metadata": {},
   "outputs": [],
   "source": [
    "query={'_id':datetime.datetime.strptime(date,'%Y-%m-%d'), 'Symbol': { '$in': symbolList }}\n",
    "dataD = CollectionName.find(query,{'Symbol':1,'Open Price':1,'_id':0})"
   ]
  }
 ],
 "metadata": {
  "kernelspec": {
   "display_name": "Python 3",
   "language": "python",
   "name": "python3"
  },
  "language_info": {
   "codemirror_mode": {
    "name": "ipython",
    "version": 3
   },
   "file_extension": ".py",
   "mimetype": "text/x-python",
   "name": "python",
   "nbconvert_exporter": "python",
   "pygments_lexer": "ipython3",
   "version": "3.6.5"
  }
 },
 "nbformat": 4,
 "nbformat_minor": 4
}
