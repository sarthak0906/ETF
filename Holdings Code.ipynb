{
 "cells": [
  {
   "cell_type": "markdown",
   "metadata": {},
   "source": [
    "# Automation code to download holdings"
   ]
  },
  {
   "cell_type": "code",
   "execution_count": null,
   "metadata": {},
   "outputs": [],
   "source": [
    "import pandas as pd\n",
    "import append_to_excel \n",
    "# https://stackoverflow.com/questions/20219254/how-to-write-to-an-existing-excel-file-without-overwriting-data-using-pandas\n",
    "\n",
    "##############################################################################\n",
    "# Author: Salil Gangal\n",
    "# Posted on: 08-JUL-2018\n",
    "# Forum: Stack Overflow\n",
    "##############################################################################\n",
    "\n",
    "output_file = 'C:\\my_python\\SPDR_Holdings.xlsx'\n",
    "base_url = \"http://www.sectorspdr.com/sectorspdr/IDCO.Client.Spdrs.Holdings/Export/ExportExcel?symbol=\"\n",
    "\n",
    "data = {                    \n",
    "    'Ticker' :      [ 'XLC','XLY','XLP','XLE','XLF','XLV','XLI','XLB','XLRE','XLK','XLU' ]          \n",
    ",   'Name' :    [ 'Communication Services','Consumer Discretionary','Consumer Staples','Energy','Financials','Health Care','Industrials','Materials','Real Estate','Technology','Utilities' ]           \n",
    "}                   \n",
    "\n",
    "spdr_df = pd.DataFrame(data)     \n",
    "\n",
    "print(spdr_df)\n",
    "\n",
    "for i, row in spdr_df.iterrows():\n",
    "    url =  base_url + row['Ticker']\n",
    "    df_url = pd.read_excel(url)\n",
    "    header = df_url.iloc[0]\n",
    "    holdings_df = df_url[1:]\n",
    "    holdings_df.set_axis(header, axis='columns', inplace=True)\n",
    "    print(\"\\n\\n\", row['Ticker'] , \"\\n\")\n",
    "    print(holdings_df)\n",
    "    append_df_to_excel(output_file, holdings_df, sheet_name= row['Ticker'], index=False)"
   ]
  }
 ],
 "metadata": {
  "kernelspec": {
   "display_name": "Python 3",
   "language": "python",
   "name": "python3"
  },
  "language_info": {
   "codemirror_mode": {
    "name": "ipython",
    "version": 3
   },
   "file_extension": ".py",
   "mimetype": "text/x-python",
   "name": "python",
   "nbconvert_exporter": "python",
   "pygments_lexer": "ipython3",
   "version": "3.6.8"
  }
 },
 "nbformat": 4,
 "nbformat_minor": 2
}
